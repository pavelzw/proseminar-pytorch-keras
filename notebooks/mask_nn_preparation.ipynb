{
 "cells": [
  {
   "cell_type": "code",
   "execution_count": 1,
   "metadata": {
    "slideshow": {
     "slide_type": "slide"
    }
   },
   "outputs": [],
   "source": [
    "import os\n",
    "import shutil\n",
    "import random\n",
    "import glob"
   ]
  },
  {
   "cell_type": "markdown",
   "metadata": {
    "pycharm": {
     "name": "#%% md\n"
    },
    "slideshow": {
     "slide_type": "slide"
    }
   },
   "source": [
    "Hier wollen wir den Datensatz so bearbeiten, dass wir ihn direkt in Keras verwenden können.\n",
    "Hierfür erstellen wir drei Ordner: `train`, `valid` und `test`.\n",
    "Wir verwenden je 300 zufällig ausgewählte Bilder der verschiedenen Klassen für das Training, 100 für die Validierung\n",
    "und 50 für den Test zum Schluss."
   ]
  },
  {
   "cell_type": "code",
   "execution_count": null,
   "metadata": {
    "pycharm": {
     "name": "#%%\n"
    },
    "slideshow": {
     "slide_type": "slide"
    }
   },
   "outputs": [],
   "source": [
    "classes = [('Mask', 'correct'),\n",
    "           ('Mask_Chin', 'chin'),\n",
    "           ('Mask_Nose_Mouth', 'mouth_nose'),\n",
    "           ('Mask_Mouth_Chin', 'mouth_chin')]\n",
    "\n",
    "os.chdir('data/MaskFace-Net')\n",
    "\n",
    "for _, folder in classes:\n",
    "    if not os.path.isdir(f'train/{folder}'):\n",
    "        os.makedirs(f'train/{folder}')\n",
    "    if not os.path.isdir(f'valid/{folder}'):\n",
    "        os.makedirs(f'valid/{folder}')\n",
    "    if not os.path.isdir(f'test/{folder}'):\n",
    "        os.makedirs(f'test/{folder}')\n",
    "\n",
    "for suffix, folder in classes:\n",
    "    if not os.path.isdir(f\"train/{folder}\"):\n",
    "        for c in random.sample(glob.glob(f'*{suffix}.jpg'), 300):\n",
    "            shutil.move(c, f'train/{folder}')\n",
    "    if not os.path.isdir(f'valid/{folder}'):\n",
    "        for c in random.sample(glob.glob(f'*{suffix}.jpg'), 100):\n",
    "            shutil.move(c, f'valid/{folder}')\n",
    "    if not os.path.isdir(f'test/{folder}'):\n",
    "        for c in random.sample(glob.glob(f'*{suffix}.jpg'), 50):\n",
    "            shutil.move(c, f'test/{folder}')\n",
    "\n",
    "os.chdir('../..')\n"
   ]
  }
 ],
 "metadata": {
  "celltoolbar": "Slideshow",
  "kernelspec": {
   "display_name": "Python 3",
   "language": "python",
   "name": "python3"
  },
  "language_info": {
   "codemirror_mode": {
    "name": "ipython",
    "version": 3
   },
   "file_extension": ".py",
   "mimetype": "text/x-python",
   "name": "python",
   "nbconvert_exporter": "python",
   "pygments_lexer": "ipython3",
   "version": "3.8.5"
  }
 },
 "nbformat": 4,
 "nbformat_minor": 1
}
