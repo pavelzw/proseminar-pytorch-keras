{
 "cells": [
  {
   "cell_type": "markdown",
   "metadata": {
    "slideshow": {
     "slide_type": "slide"
    }
   },
   "source": [
    "# Einführung in PyTorch, TensorFlow und Keras"
   ]
  },
  {
   "cell_type": "markdown",
   "metadata": {},
   "source": [
    "## Gliederung\n",
    "- Einführung\n",
    "- PyTorch Beispiel mit Multilayer Perceptron\n",
    "- Keras CNN Implementierung\n",
    "- Keras Transfer Learning Implementierung\n",
    "- Vergleich PyTorch/TensorFlow"
   ]
  },
  {
   "cell_type": "markdown",
   "metadata": {
    "slideshow": {
     "slide_type": "slide"
    }
   },
   "source": [
    "## PyTorch\n",
    "- 2017 von Facebook veröffentlicht\n",
    "- Basierend auf Torch (Bibliothek für Lua, 2002)\n",
    "- Bereits von Anfang an sehr Pythonic"
   ]
  },
  {
   "cell_type": "markdown",
   "metadata": {
    "pycharm": {
     "name": "#%% md\n"
    },
    "slideshow": {
     "slide_type": "slide"
    }
   },
   "source": [
    "## TensorFlow\n",
    "- 2015 von Google veröffentlicht\n",
    "- TensorFlow 2 (Sep. 2019) sehr Pythonic\n",
    "- Keras früher eigenständig, seit 1.4 Teil der Core API"
   ]
  }
 ],
 "metadata": {
  "celltoolbar": "Slideshow",
  "kernelspec": {
   "display_name": "Python 3",
   "language": "python",
   "name": "python3"
  },
  "language_info": {
   "codemirror_mode": {
    "name": "ipython",
    "version": 3
   },
   "file_extension": ".py",
   "mimetype": "text/x-python",
   "name": "python",
   "nbconvert_exporter": "python",
   "pygments_lexer": "ipython3",
   "version": "3.8.5"
  }
 },
 "nbformat": 4,
 "nbformat_minor": 4
}
