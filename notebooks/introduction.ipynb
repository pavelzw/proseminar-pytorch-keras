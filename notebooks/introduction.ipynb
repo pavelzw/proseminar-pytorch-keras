{
 "cells": [
  {
   "cell_type": "markdown",
   "metadata": {
    "slideshow": {
     "slide_type": "slide"
    }
   },
   "source": [
    "# Einführung in PyTorch, TensorFlow und Keras"
   ]
  },
  {
   "cell_type": "markdown",
   "metadata": {
    "slideshow": {
     "slide_type": "slide"
    }
   },
   "source": [
    "## PyTorch\n",
    "- 2017 von Facebook veröffentlicht\n",
    "- Basierend auf Torch (Bibliothek für Lua, 2002)\n",
    "- Bereits von Anfang an sehr Pythonic"
   ]
  },
  {
   "cell_type": "markdown",
   "metadata": {
    "slideshow": {
     "slide_type": "slide"
    }
   },
   "source": [
    "## TensorFlow\n",
    "- 2015 von Google veröffentlicht\n",
    "- TensorFlow 1 schwieriger zu lernen als PyTorch\n",
    "- TensorFlow 2 (Sep. 2019) deutlich mehr Pythonic\n",
    "- Keras früher eigenständig, seit 1.4 Teil der Core API"
   ]
  },
  {
   "cell_type": "markdown",
   "metadata": {
    "slideshow": {
     "slide_type": "slide"
    }
   },
   "source": [
    "## <span style=\"color:#4285f4\">PyTorch</span> vs. <span style=\"color:#db4437\">TensorFlow</span> Google Suchtrends (Weltweit)\n",
    "<img src=\"search-trends.png\"/>"
   ]
  },
  {
   "cell_type": "markdown",
   "metadata": {
    "slideshow": {
     "slide_type": "slide"
    }
   },
   "source": [
    "### Verteiltes Rechnen\n",
    "Google hat Tensor Processing Units (TPUs) entwickelt, welche deutlich schneller als normale GPUs Modelle trainieren können. \n",
    "\n",
    "<table>\n",
    "    <thead>\n",
    "        <tr>\n",
    "            <th style=\"text-align: center\">PyTorch</th>\n",
    "            <th style=\"text-align: center\">TensorFlow</th>\n",
    "        </tr>\n",
    "    </thead>\n",
    "    <tbody>\n",
    "        <tr>\n",
    "          <td colspan=2, style=\"text-align: center\">Verteiltes Rechnen auf GPUs und CPUs problemlos möglich</td>\n",
    "        </tr>\n",
    "        <tr>\n",
    "          <td>TPU Nutzung nur durch Bibliotheken von Drittanbietern möglich</td>\n",
    "          <td>TPU Nutzung problemlos möglich</td>\n",
    "        </tr>\n",
    "    </tbody>\n",
    "</table>"
   ]
  },
  {
   "cell_type": "markdown",
   "metadata": {
    "slideshow": {
     "slide_type": "slide"
    }
   },
   "source": [
    "### Deployment\n",
    "- TensorFlow unterstützt statische Berechnungsgraphen → bessere Performance\n",
    "- TensorFlow hat bessere Packages, die Deployment über Cloud, Browser und Mobile vereinfachen."
   ]
  },
  {
   "cell_type": "markdown",
   "metadata": {
    "slideshow": {
     "slide_type": "slide"
    }
   },
   "source": [
    "### Code\n",
    "- Beide sehr Pythonic, unterscheiden sich mittlerweile kaum noch\n",
    "- Keras API vereinfacht einiges in TensorFlow"
   ]
  },
  {
   "cell_type": "markdown",
   "metadata": {
    "slideshow": {
     "slide_type": "slide"
    }
   },
   "source": [
    "## AMD und Apple Silicon\n",
    "\n",
    "<table>\n",
    "    <thead>\n",
    "        <tr>\n",
    "            <th style=\"text-align: center\">PyTorch</th>\n",
    "            <th style=\"text-align: center\">TensorFlow</th>\n",
    "        </tr>\n",
    "    </thead>\n",
    "    <tbody>\n",
    "        <tr>\n",
    "          <td colspan=2, style=\"text-align: center\">Kein offizieller Support von OpenCL (für AMD GPUs)</td>\n",
    "        </tr>\n",
    "        <tr>\n",
    "          <td>Kein offizieller Support für Apple Silicon</td>\n",
    "          <td>Apple Silicon wird unterstützt</td>\n",
    "        </tr>\n",
    "    </tbody>\n",
    "</table>"
   ]
  }
 ],
 "metadata": {
  "celltoolbar": "Slideshow",
  "kernelspec": {
   "display_name": "Python 3",
   "language": "python",
   "name": "python3"
  },
  "language_info": {
   "codemirror_mode": {
    "name": "ipython",
    "version": 3
   },
   "file_extension": ".py",
   "mimetype": "text/x-python",
   "name": "python",
   "nbconvert_exporter": "python",
   "pygments_lexer": "ipython3",
   "version": "3.8.5"
  }
 },
 "nbformat": 4,
 "nbformat_minor": 4
}
