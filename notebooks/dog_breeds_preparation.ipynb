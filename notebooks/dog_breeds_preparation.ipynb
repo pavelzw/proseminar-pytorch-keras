{
 "cells": [
  {
   "cell_type": "code",
   "execution_count": 6,
   "outputs": [],
   "source": [
    "import glob\n",
    "import os\n",
    "import random\n",
    "import shutil"
   ],
   "metadata": {
    "collapsed": false,
    "pycharm": {
     "name": "#%%\n"
    }
   }
  },
  {
   "cell_type": "code",
   "execution_count": 8,
   "metadata": {
    "collapsed": true
   },
   "outputs": [
    {
     "name": "stdout",
     "output_type": "stream",
     "text": [
      "LENGTH 148\n"
     ]
    }
   ],
   "source": [
    "train_path = 'dog_breeds/'\n",
    "length = 200\n",
    "for folder in os.listdir(train_path):\n",
    "    length = min(length, len(os.listdir('dog_breeds/' + folder)))\n",
    "#valid_path = 'data/DogBreeds/valid'\n",
    "#test_path = 'data/DogBreeds/test'\n",
    "print(\"LENGTH\", length)\n",
    "\n",
    "classes = os.listdir(train_path)\n",
    "\n",
    "\n",
    "for class_name in classes:\n",
    "    os.makedirs(train_path + f'train/{class_name}')\n",
    "    os.makedirs(train_path + f'test/{class_name}')\n",
    "    for c in random.sample(glob.glob(train_path + class_name + '/*.jpg'), 75):\n",
    "        shutil.move(c, train_path + f'train/{class_name}')\n",
    "    for c in random.sample(glob.glob(train_path + class_name + '/*.jpg'), 10):\n",
    "        shutil.move(c, train_path + f'test/{class_name}')"
   ]
  }
 ],
 "metadata": {
  "kernelspec": {
   "display_name": "Python 3",
   "language": "python",
   "name": "python3"
  },
  "language_info": {
   "codemirror_mode": {
    "name": "ipython",
    "version": 2
   },
   "file_extension": ".py",
   "mimetype": "text/x-python",
   "name": "python",
   "nbconvert_exporter": "python",
   "pygments_lexer": "ipython2",
   "version": "2.7.6"
  }
 },
 "nbformat": 4,
 "nbformat_minor": 0
}