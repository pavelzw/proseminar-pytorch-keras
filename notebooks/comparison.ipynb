{
 "cells": [
  {
   "cell_type": "markdown",
   "metadata": {
    "slideshow": {
     "slide_type": "slide"
    }
   },
   "source": [
    "## <span style=\"color:#4285f4\">PyTorch</span> vs. <span style=\"color:#db4437\">TensorFlow</span> Google Suchtrends (Weltweit)\n",
    "<img src=\"assets/search-trends.png\"/>"
   ]
  },
  {
   "cell_type": "markdown",
   "metadata": {
    "slideshow": {
     "slide_type": "slide"
    }
   },
   "source": [
    "### Verteiltes Rechnen\n",
    "Google hat Tensor Processing Units (TPUs) entwickelt, welche deutlich schneller als normale GPUs Modelle trainieren können.\n",
    "\n",
    "| | PyTorch | TensorFlow |\n",
    "| ---: | :---: | :---: |\n",
    "| CPU/GPU | ✅ | ✅ |\n",
    "| TPU | Drittanbieter Bibliotheken | ✅ |\n",
    "| Kubernetes | ✅ | ✅ |"
   ]
  },
  {
   "cell_type": "markdown",
   "metadata": {
    "slideshow": {
     "slide_type": "slide"
    }
   },
   "source": [
    "### Deployment\n",
    "- TensorFlow unterstützt statische Berechnungsgraphen → bessere Performance\n",
    "- TensorFlow hat bessere Packages, die Deployment über Cloud, Browser und Mobile vereinfachen."
   ]
  },
  {
   "cell_type": "markdown",
   "metadata": {
    "slideshow": {
     "slide_type": "slide"
    }
   },
   "source": [
    "### Code\n",
    "- Beide sehr Pythonic, unterscheiden sich mittlerweile kaum noch\n",
    "- Keras API vereinfacht einiges in TensorFlow"
   ]
  },
  {
   "cell_type": "markdown",
   "metadata": {
    "slideshow": {
     "slide_type": "subslide"
    }
   },
   "source": [
    "<table>\n",
    "<tr>\n",
    "<th> PyTorch </th>\n",
    "<th> TensorFlow </th>\n",
    "</tr>\n",
    "<tr>\n",
    "<td>\n",
    "\n",
    "<img src=\"assets/model-pytorch.png\"/>\n",
    "\n",
    "</td>\n",
    "<td>\n",
    "\n",
    "<img src=\"assets/model-tensorflow.png\"/>\n",
    "\n",
    "</td>\n",
    "</tr>\n",
    "</table>"
   ]
  },
  {
   "cell_type": "markdown",
   "metadata": {
    "slideshow": {
     "slide_type": "slide"
    }
   },
   "source": [
    "### Nvidia, AMD und Apple Silicon\n",
    "\n",
    "| | PyTorch | TensorFlow |\n",
    "| ---: | :---: | :---: |\n",
    "| Cuda | ✅ | ✅ |\n",
    "| OpenCL | ❌ | ❌ |\n",
    "| Apple Silicon | ❌ | ✅ |"
   ]
  },
  {
   "cell_type": "markdown",
   "metadata": {
    "slideshow": {
     "slide_type": "fragment"
    }
   },
   "source": [
    "<center><img src=\"assets/apple-silicon.png\" style=\"width:570px;height:500px;\"/></center>"
   ]
  },
  {
   "cell_type": "markdown",
   "metadata": {
    "slideshow": {
     "slide_type": "slide"
    }
   },
   "source": [
    "## Wann sollte man was verwenden?\n",
    "<center><img src=\"assets/decision-tree.svg\" style=\"width:560px;\"/></center>"
   ]
  }
 ],
 "metadata": {
  "celltoolbar": "Slideshow",
  "kernelspec": {
   "display_name": "Python 3",
   "language": "python",
   "name": "python3"
  },
  "language_info": {
   "codemirror_mode": {
    "name": "ipython",
    "version": 3
   },
   "file_extension": ".py",
   "mimetype": "text/x-python",
   "name": "python",
   "nbconvert_exporter": "python",
   "pygments_lexer": "ipython3",
   "version": "3.8.5"
  }
 },
 "nbformat": 4,
 "nbformat_minor": 1
}
