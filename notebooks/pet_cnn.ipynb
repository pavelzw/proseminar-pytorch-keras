{
 "cells": [
  {
   "cell_type": "code",
   "execution_count": null,
   "metadata": {
    "colab": {
     "base_uri": "https://localhost:8080/"
    },
    "id": "10bq6Dn5VKIp",
    "outputId": "4ce05bf1-b8eb-4f4b-bb68-66920408627f",
    "pycharm": {
     "name": "#%%\n"
    }
   },
   "outputs": [],
   "source": [
    "!pip install wget\n",
    "import wget\n",
    "import os\n",
    "import tensorflow as tf\n",
    "from tensorflow.keras.layers import Conv2D, MaxPool2D, Flatten, Dense\n",
    "from tensorflow.keras.models import Sequential\n",
    "from tensorflow.keras.optimizers import Adam\n",
    "from tensorflow.keras.preprocessing.image import ImageDataGenerator"
   ]
  },
  {
   "cell_type": "code",
   "execution_count": null,
   "metadata": {},
   "outputs": [],
   "source": [
    "gpus = tf.config.experimental.list_physical_devices('GPU')\n",
    "if gpus:\n",
    "  try:\n",
    "    for gpu in gpus:\n",
    "      tf.config.experimental.set_memory_growth(gpu, True)\n",
    "  except RuntimeError as e:\n",
    "    print(e)\n",
    "print('GPUs:', gpus)"
   ]
  },
  {
   "cell_type": "markdown",
   "metadata": {},
   "source": [
    "# Daten laden und präparieren"
   ]
  },
  {
   "cell_type": "markdown",
   "metadata": {
    "id": "oyd8b8_LVKI0"
   },
   "source": [
    "Wir betrachten einen Datensatz mit Hunden und Katzen."
   ]
  },
  {
   "cell_type": "code",
   "execution_count": null,
   "metadata": {
    "id": "XesiT7m4VKI0",
    "pycharm": {
     "name": "#%%\n"
    }
   },
   "outputs": [],
   "source": [
    "classes = ['Cat', 'Dog']"
   ]
  },
  {
   "cell_type": "code",
   "execution_count": null,
   "metadata": {
    "id": "uvdRhEupVKI1",
    "pycharm": {
     "name": "#%%\n"
    }
   },
   "outputs": [],
   "source": [
    "train_path = 'data/PetImages/train'\n",
    "valid_path = 'data/PetImages/valid'\n",
    "test_path = 'data/PetImages/test'"
   ]
  },
  {
   "cell_type": "markdown",
   "metadata": {
    "id": "rpOoDA8YVKI1"
   },
   "source": [
    "Nun erzeugen wir aus den Ordnern die zugehörigen Batches.\n",
    "`flow_from_directory` erzeugt augmentierte Bilder.\n",
    "In unserem Beispiel werden diese einfach auf die Größe `224x224` skaliert."
   ]
  },
  {
   "cell_type": "code",
   "execution_count": null,
   "metadata": {
    "colab": {
     "base_uri": "https://localhost:8080/"
    },
    "id": "RrSly-_nVKI2",
    "outputId": "a9503bf2-50c7-48c6-a9a1-3bdd445d28c7",
    "pycharm": {
     "name": "#%%\n"
    }
   },
   "outputs": [],
   "source": [
    "image_size = 224\n",
    "batch_size = 10\n",
    "\n",
    "train_batches = ImageDataGenerator(rescale=1./255) \\\n",
    "    .flow_from_directory(directory=train_path,\n",
    "                         target_size=(image_size, image_size),\n",
    "                         classes=classes,\n",
    "                         batch_size=batch_size)\n",
    "valid_batches = ImageDataGenerator(rescale=1./255) \\\n",
    "    .flow_from_directory(directory=valid_path,\n",
    "                         target_size=(image_size, image_size),\n",
    "                         classes=classes,\n",
    "                         batch_size=batch_size)\n",
    "test_batches = ImageDataGenerator(rescale=1./255) \\\n",
    "    .flow_from_directory(directory=test_path,\n",
    "                         target_size=(image_size, image_size),\n",
    "                         classes=classes,\n",
    "                         batch_size=batch_size, shuffle=False)"
   ]
  },
  {
   "cell_type": "code",
   "execution_count": null,
   "metadata": {
    "id": "3J3AkI2AVKI2",
    "pycharm": {
     "name": "#%%\n"
    }
   },
   "outputs": [],
   "source": [
    "assert train_batches.n == 2*500\n",
    "assert valid_batches.n == 2*100\n",
    "assert test_batches.n == 2*50\n",
    "assert train_batches.num_classes == valid_batches.num_classes == test_batches.num_classes == 2"
   ]
  },
  {
   "cell_type": "code",
   "execution_count": null,
   "metadata": {
    "id": "fV6VlgHWVKI2",
    "pycharm": {
     "name": "#%%\n"
    }
   },
   "outputs": [],
   "source": [
    "import matplotlib.pyplot as plt\n",
    "\n",
    "def plot_images(images_arr):\n",
    "    fig, axes = plt.subplots(1, 10, figsize=(20, 20))\n",
    "    axes = axes.flatten()\n",
    "    for img, ax in zip(images_arr, axes):\n",
    "        ax.imshow(img)\n",
    "        ax.axis('off')\n",
    "    plt.tight_layout()\n",
    "    plt.show()"
   ]
  },
  {
   "cell_type": "markdown",
   "metadata": {
    "id": "1bGWPl3eVKI3"
   },
   "source": [
    "Sehen wir uns das erste Trainingsbatch kurz an."
   ]
  },
  {
   "cell_type": "code",
   "execution_count": null,
   "metadata": {
    "colab": {
     "base_uri": "https://localhost:8080/",
     "height": 444
    },
    "id": "zoZT0JWUVKI3",
    "outputId": "38aa320b-f2a3-4339-f31e-0ae3be3b89f9",
    "pycharm": {
     "name": "#%%\n"
    }
   },
   "outputs": [],
   "source": [
    "imgs, labels = next(train_batches)\n",
    "\n",
    "plot_images(imgs)\n",
    "print(labels)"
   ]
  },
  {
   "cell_type": "markdown",
   "metadata": {},
   "source": [
    "# Neuronales Netz erstellen"
   ]
  },
  {
   "cell_type": "markdown",
   "metadata": {
    "id": "jXyqdIUfVKI3"
   },
   "source": [
    "Nun kommen wir endlich zu unserem neuronalen Netz.\n",
    "Wir verwenden ein Convolutional Neural Network, das durch `tf.keras.models.Sequential`\n",
    "realisiert und verwendet zwei `tf.keras.layers.Conv2D`-Ebenen, zwei `tf.keras.layers.MaxPool2D`-Ebenen\n",
    "und zum Schluss noch ein Fully-connected Layer, welches wir durch `tf.keras.layers.Flatten`\n",
    "und `tf.keras.layers.Dense` bekommen."
   ]
  },
  {
   "cell_type": "markdown",
   "metadata": {},
   "source": [
    "<img src=\"assets/cnn.svg\"/>"
   ]
  },
  {
   "cell_type": "code",
   "execution_count": null,
   "metadata": {
    "colab": {
     "base_uri": "https://localhost:8080/"
    },
    "id": "j7-KkRSEVKI3",
    "outputId": "daf43e64-dcad-41d1-936e-caac47081213",
    "pycharm": {
     "name": "#%%\n"
    }
   },
   "outputs": [],
   "source": [
    "model = Sequential([\n",
    "    Conv2D(filters=32, kernel_size=(3,3), activation='relu', padding='same', input_shape=(image_size, image_size, 3)),\n",
    "    MaxPool2D(pool_size=(2,2), strides=2),\n",
    "    Conv2D(filters=64, kernel_size=(3,3), activation='relu', padding='same'),\n",
    "    MaxPool2D(pool_size=(2,2), strides=2),\n",
    "    Conv2D(filters=64, kernel_size=(3,3), activation='relu', padding='same'),\n",
    "\n",
    "    Flatten(),\n",
    "    Dense(units=2, activation='softmax'),\n",
    "])\n",
    "model.summary()"
   ]
  },
  {
   "cell_type": "markdown",
   "metadata": {},
   "source": [
    "# Neuronales Netz trainieren"
   ]
  },
  {
   "cell_type": "markdown",
   "metadata": {
    "id": "lWO6aDnPVKI4"
   },
   "source": [
    "Für unsere Loss-Funktion verwenden wir Categorical Crossentropy\n",
    "und für den Optimierer verwenden wir `tf.keras.optimizers.Adam`,\n",
    "da dieser bessere Ergebnisse als Stochastic Gradient Descent liefert."
   ]
  },
  {
   "cell_type": "code",
   "execution_count": null,
   "metadata": {
    "id": "noluAk46VKI4",
    "pycharm": {
     "name": "#%%\n"
    }
   },
   "outputs": [],
   "source": [
    "model.compile(optimizer=Adam(lr=0.0001),\n",
    "              loss='categorical_crossentropy',\n",
    "              metrics=['accuracy'])"
   ]
  },
  {
   "cell_type": "markdown",
   "metadata": {
    "id": "B6ISoxq8VKI4"
   },
   "source": [
    "Mit `fit()` trainieren wir das neuronale Netz."
   ]
  },
  {
   "cell_type": "code",
   "execution_count": null,
   "metadata": {
    "colab": {
     "base_uri": "https://localhost:8080/"
    },
    "id": "RM4n95iEVKI4",
    "outputId": "efd420af-c925-4464-f8ef-0f664cf25787",
    "pycharm": {
     "name": "#%%\n"
    },
    "scrolled": true
   },
   "outputs": [],
   "source": [
    "model.fit(x=train_batches, validation_data=valid_batches, epochs=3, verbose=2)"
   ]
  },
  {
   "cell_type": "markdown",
   "metadata": {},
   "source": [
    "# Vorhersagen auf Testdatensatz"
   ]
  },
  {
   "cell_type": "markdown",
   "metadata": {
    "id": "lUMtLgJ5VKI5"
   },
   "source": [
    "Betrachten wir nun das Test-Set.\n",
    "Da das Test-Set nicht gemischt wurde,\n",
    "sind die ersten Bilder alles Katzen."
   ]
  },
  {
   "cell_type": "code",
   "execution_count": null,
   "metadata": {
    "colab": {
     "base_uri": "https://localhost:8080/",
     "height": 444
    },
    "id": "QSDf3ly8VKI5",
    "outputId": "cf95cfa2-ddcf-4c4f-f051-cf0c09baae8c",
    "pycharm": {
     "name": "#%%\n"
    }
   },
   "outputs": [],
   "source": [
    "test_imgs, test_labels = next(test_batches)\n",
    "plot_images(test_imgs)\n",
    "print(test_labels)"
   ]
  },
  {
   "cell_type": "markdown",
   "metadata": {
    "id": "MK1RrCuVVKI5"
   },
   "source": [
    "Nun sagen wir das Test-Set mithilfe unseres trainierten Netzes mit `predict()` vor."
   ]
  },
  {
   "cell_type": "code",
   "execution_count": null,
   "metadata": {
    "id": "dTCo74aIVKI5",
    "pycharm": {
     "name": "#%%\n"
    }
   },
   "outputs": [],
   "source": [
    "predictions = model.predict(x=test_batches, verbose=0)"
   ]
  },
  {
   "cell_type": "code",
   "execution_count": null,
   "metadata": {
    "colab": {
     "base_uri": "https://localhost:8080/"
    },
    "id": "FuCXM4OuVKI5",
    "outputId": "0db30c43-87ba-45f1-d600-0e0b72580476",
    "pycharm": {
     "name": "#%%\n"
    }
   },
   "outputs": [],
   "source": [
    "import numpy as np\n",
    "preds = np.argmax(predictions, axis=1)\n",
    "print(\"Predictions:\\n\", preds)\n",
    "print(\"Actual:\\n\", test_batches.classes)\n",
    "print(\"Accuracy:\", sum(preds == test_batches.classes)/preds.shape[0])"
   ]
  },
  {
   "cell_type": "code",
   "execution_count": null,
   "metadata": {
    "id": "wzQ48_yGjQsa"
   },
   "outputs": [],
   "source": [
    "from sklearn.metrics import confusion_matrix\n",
    "import itertools\n",
    "import matplotlib.pyplot as plt\n",
    "\n",
    "def plot_cm(y_true, y_pred, classes, title='Konfusionsmatrix', cmap=plt.cm.Blues):\n",
    "    cm = confusion_matrix(y_true=y_true, y_pred=y_pred)\n",
    "    plt.imshow(cm, interpolation='nearest', cmap=cmap)\n",
    "    plt.title(title)\n",
    "    plt.colorbar()\n",
    "    tick_marks = np.arange(len(classes))\n",
    "    plt.xticks(tick_marks, classes, rotation=45)\n",
    "    plt.yticks(tick_marks, classes)\n",
    "\n",
    "    thresh = cm.max() * 2. / 3\n",
    "    for i, j in itertools.product(range(cm.shape[0]), range(cm.shape[1])):\n",
    "        plt.text(j, i, cm[i, j],\n",
    "            horizontalalignment=\"center\",\n",
    "            color=\"white\" if cm[i, j] > thresh else \"black\")\n",
    "\n",
    "    plt.tight_layout()\n",
    "    plt.ylabel('Tatsächlich')\n",
    "    plt.xlabel('Vorhersage')"
   ]
  },
  {
   "cell_type": "code",
   "execution_count": null,
   "metadata": {
    "colab": {
     "base_uri": "https://localhost:8080/",
     "height": 311
    },
    "id": "H0f9VPudi0Qo",
    "outputId": "b0d9f6d3-790b-422c-a702-06318f8d4949",
    "scrolled": true
   },
   "outputs": [],
   "source": [
    "plot_cm(test_batches.classes, preds, classes)"
   ]
  }
 ],
 "metadata": {
  "colab": {
   "name": "Kopie von pet-cnn.ipynb",
   "provenance": []
  },
  "kernelspec": {
   "display_name": "Python 3",
   "language": "python",
   "name": "python3"
  },
  "language_info": {
   "codemirror_mode": {
    "name": "ipython",
    "version": 3
   },
   "file_extension": ".py",
   "mimetype": "text/x-python",
   "name": "python",
   "nbconvert_exporter": "python",
   "pygments_lexer": "ipython3",
   "version": "3.8.5"
  }
 },
 "nbformat": 4,
 "nbformat_minor": 1
}
