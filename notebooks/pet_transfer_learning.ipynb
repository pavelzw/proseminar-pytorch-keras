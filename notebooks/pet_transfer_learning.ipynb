{
 "cells": [
  {
   "cell_type": "code",
   "execution_count": null,
   "metadata": {
    "colab": {
     "base_uri": "https://localhost:8080/"
    },
    "id": "HIXGeq5TMbvg",
    "outputId": "5e77de6e-3a3b-4cf5-b69c-7ca314292810",
    "pycharm": {
     "name": "#%%\n"
    }
   },
   "outputs": [],
   "source": [
    "!pip install wget\n",
    "import wget\n",
    "import tensorflow as tf\n",
    "from tensorflow.keras.layers import Dense\n",
    "from tensorflow.keras.models import Sequential\n",
    "from tensorflow.keras.optimizers import Adam\n",
    "from tensorflow.keras.preprocessing.image import ImageDataGenerator\n",
    "import os"
   ]
  },
  {
   "cell_type": "code",
   "execution_count": null,
   "metadata": {},
   "outputs": [],
   "source": [
    "gpus = tf.config.experimental.list_physical_devices('GPU')\n",
    "if gpus:\n",
    "  try:\n",
    "    for gpu in gpus:\n",
    "      tf.config.experimental.set_memory_growth(gpu, True)\n",
    "  except RuntimeError as e:\n",
    "    print(e)"
   ]
  },
  {
   "cell_type": "markdown",
   "metadata": {},
   "source": [
    "# Daten laden und präparieren"
   ]
  },
  {
   "cell_type": "code",
   "execution_count": null,
   "metadata": {
    "id": "Av1RnZBMPfYn"
   },
   "outputs": [],
   "source": [
    "if not os.path.isdir(\"data/PetImages\"):\n",
    "    wget.download(\"https://oshi.at/twJYYz\", bar=wget.bar_adaptive)\n",
    "\n",
    "    import zipfile\n",
    "    with zipfile.ZipFile(\"JuIO.zip\", \"r\") as zip_ref:\n",
    "        zip_ref.extractall(\"\")\n",
    "\n",
    "\n",
    "train_path = 'data/PetImages/train'\n",
    "valid_path = 'data/PetImages/valid'\n",
    "test_path = 'data/PetImages/test'"
   ]
  },
  {
   "cell_type": "code",
   "execution_count": null,
   "metadata": {
    "colab": {
     "base_uri": "https://localhost:8080/"
    },
    "id": "0aoL2ygUTUYD",
    "outputId": "25d7ed49-e207-431f-b883-78cf1c8712d2"
   },
   "outputs": [],
   "source": [
    "image_size = 224\n",
    "batch_size = 10\n",
    "\n",
    "classes = ['Cat', 'Dog']\n",
    "\n",
    "train_batches = ImageDataGenerator(preprocessing_function=tf.keras.applications.vgg16.preprocess_input) \\\n",
    "    .flow_from_directory(directory=train_path,\n",
    "                         target_size=(image_size, image_size),\n",
    "                         classes=classes,\n",
    "                         batch_size=batch_size)\n",
    "\n",
    "valid_batches = ImageDataGenerator(preprocessing_function=tf.keras.applications.vgg16.preprocess_input) \\\n",
    "    .flow_from_directory(directory=valid_path,\n",
    "                         target_size=(image_size, image_size),\n",
    "                         classes=classes,\n",
    "                         batch_size=batch_size)\n",
    "test_batches = ImageDataGenerator(preprocessing_function=tf.keras.applications.vgg16.preprocess_input) \\\n",
    "    .flow_from_directory(directory=test_path,\n",
    "                         target_size=(image_size, image_size),\n",
    "                         classes=classes,\n",
    "                         batch_size=batch_size, shuffle=False)"
   ]
  },
  {
   "cell_type": "markdown",
   "metadata": {},
   "source": [
    "# Neuronales Netz erstellen"
   ]
  },
  {
   "cell_type": "markdown",
   "metadata": {},
   "source": [
    "## Transfer Learning Definition\n",
    "Wir betrachten ein _unterschiedliches_, aber ähnliches Problem. Wenn hierzu bereits ein neuronales Netz besteht, welches dieses gut löst, können wir das bereits bestehende neuronale Netz verwenden und leicht abändern und ein paar Ebenen des Netzes neu trainieren, um es auf unser Problem zu spezifizieren."
   ]
  },
  {
   "cell_type": "markdown",
   "metadata": {},
   "source": [
    "TensorFlow bietet in seiner Bibliothek bereits viele verschiedene vortrainierte Netze an. \n",
    "Diese kann man sich unter [https://www.tensorflow.org/api_docs/python/tf/keras/applications?hl=de](https://www.tensorflow.org/api_docs/python/tf/keras/applications?hl=de) ansehen."
   ]
  },
  {
   "cell_type": "markdown",
   "metadata": {
    "collapsed": true,
    "id": "fLDYXbtfMbvi",
    "pycharm": {
     "name": "#%% md\n"
    }
   },
   "source": [
    "Wir verwenden nun das VGG16 Modell für Transfer Learning.\n",
    "Unser Ziel ist es, ein neuronales Netz zu erstellen, welches Bilder von Katzen und Hunden unterscheiden kann.\n",
    "Wie gerade gesehen, funktioniert dies mit einfachen CNNs nicht so gut.\n",
    "Deshalb versuchen wir es mit Transfer Learning bei einem bereits trainierten neuronalen Netz,\n",
    "welches wir auf unsere Bedürfnisse spezialisieren."
   ]
  },
  {
   "cell_type": "code",
   "execution_count": null,
   "metadata": {
    "colab": {
     "base_uri": "https://localhost:8080/"
    },
    "id": "qJiO8nIYMbvk",
    "outputId": "ccc18b9f-6eee-43df-a833-d00c7f12bc82",
    "pycharm": {
     "name": "#%%\n"
    }
   },
   "outputs": [],
   "source": [
    "vgg16_model = tf.keras.applications.vgg16.VGG16()\n",
    "vgg16_model.summary()"
   ]
  },
  {
   "cell_type": "markdown",
   "metadata": {
    "id": "C5qpC_sYMqE6"
   },
   "source": [
    "Wir erstellen nun ein eigenes Modell, welches die gleichen Ebenen wie VGG16 hat außer der letzten."
   ]
  },
  {
   "cell_type": "code",
   "execution_count": null,
   "metadata": {
    "id": "56dS1sOGNLoM"
   },
   "outputs": [],
   "source": [
    "model = Sequential()\n",
    "for layer in vgg16_model.layers[:-1]:\n",
    "    model.add(layer)"
   ]
  },
  {
   "cell_type": "markdown",
   "metadata": {
    "id": "T5HwiG-GN0OL"
   },
   "source": [
    "Da wir die Ebenen vor unserer Spezialisierung (dem letzten voll vernetzen neuronalen Netz) nicht erneut trainieren wollen,\n",
    "werden wir diese freezen, d. h. `trainable = False` setzen."
   ]
  },
  {
   "cell_type": "markdown",
   "metadata": {
    "id": "wsGgTCN7Nj0V"
   },
   "source": [
    "Statt dem Dense Layer mit 1000 Outputs verwenden wir ein Dense Layer mit 2 Outputs - Katze oder Hund."
   ]
  },
  {
   "cell_type": "code",
   "execution_count": null,
   "metadata": {
    "id": "-L5qnw48OFBS"
   },
   "outputs": [],
   "source": [
    "for layer in model.layers:\n",
    "    layer.trainable = False"
   ]
  },
  {
   "cell_type": "code",
   "execution_count": null,
   "metadata": {
    "colab": {
     "base_uri": "https://localhost:8080/"
    },
    "id": "Laxoy0tHNjbi",
    "outputId": "d57572a3-6f8e-47d1-b7c8-acb59350cc30"
   },
   "outputs": [],
   "source": [
    "model.add(Dense(units=2, activation='softmax'))\n",
    "model.summary()"
   ]
  },
  {
   "cell_type": "markdown",
   "metadata": {},
   "source": [
    "# Neuronales Netz trainieren"
   ]
  },
  {
   "cell_type": "markdown",
   "metadata": {
    "id": "m9J5HPEpOovd"
   },
   "source": [
    "Nun haben wir ein Modell, welches nur 8194 anpassbare Parameter hat statt 134 Millionen.\n",
    "Wir verwenden wieder `Adam` als Optimizer und categorical crossentropy loss als loss funktion."
   ]
  },
  {
   "cell_type": "code",
   "execution_count": null,
   "metadata": {
    "id": "IAtzv8dKO-AU"
   },
   "outputs": [],
   "source": [
    "model.compile(optimizer=Adam(learning_rate=0.0001), loss='categorical_crossentropy', metrics=['accuracy'])"
   ]
  },
  {
   "cell_type": "code",
   "execution_count": null,
   "metadata": {
    "colab": {
     "base_uri": "https://localhost:8080/"
    },
    "id": "hwX__iQBUFWe",
    "outputId": "50a392c3-2b59-4e91-a5ff-b96ee4c802be"
   },
   "outputs": [],
   "source": [
    "model.fit(x=train_batches, validation_data=valid_batches, epochs=3, verbose=2)"
   ]
  },
  {
   "cell_type": "markdown",
   "metadata": {},
   "source": [
    "# Vorhersagen auf Testdatensatz"
   ]
  },
  {
   "cell_type": "markdown",
   "metadata": {
    "id": "LtmIUk3Ryej8"
   },
   "source": [
    "Nun betrachten wir wieder das Test-Set."
   ]
  },
  {
   "cell_type": "code",
   "execution_count": null,
   "metadata": {
    "id": "39Wfcg1xy27E"
   },
   "outputs": [],
   "source": [
    "from sklearn.metrics import confusion_matrix\n",
    "import itertools\n",
    "import matplotlib.pyplot as plt\n",
    "\n",
    "def plot_cm(y_true, y_pred, classes, title='Konfusionsmatrix', cmap=plt.cm.Blues):\n",
    "    cm = confusion_matrix(y_true=y_true, y_pred=y_pred)\n",
    "    plt.imshow(cm, interpolation='nearest', cmap=cmap)\n",
    "    plt.title(title)\n",
    "    plt.colorbar()\n",
    "    tick_marks = np.arange(len(classes))\n",
    "    plt.xticks(tick_marks, classes, rotation=45)\n",
    "    plt.yticks(tick_marks, classes)\n",
    "\n",
    "    thresh = cm.max() * 2. / 3\n",
    "    for i, j in itertools.product(range(cm.shape[0]), range(cm.shape[1])):\n",
    "        plt.text(j, i, cm[i, j],\n",
    "            horizontalalignment=\"center\",\n",
    "            color=\"white\" if cm[i, j] > thresh else \"black\")\n",
    "\n",
    "    plt.tight_layout()\n",
    "    plt.ylabel('Tatsächlich')\n",
    "    plt.xlabel('Vorhersage')"
   ]
  },
  {
   "cell_type": "code",
   "execution_count": null,
   "metadata": {
    "colab": {
     "base_uri": "https://localhost:8080/"
    },
    "id": "Rman8Yre9JMo",
    "outputId": "e163807c-db66-407a-ad9b-92a7152ad14d"
   },
   "outputs": [],
   "source": [
    "predictions = model.predict(x=test_batches, verbose=2)"
   ]
  },
  {
   "cell_type": "code",
   "execution_count": null,
   "metadata": {
    "colab": {
     "base_uri": "https://localhost:8080/"
    },
    "id": "ktflor_V9JsA",
    "outputId": "4d0ed38b-2b84-44c1-da96-d1ba2bce471a"
   },
   "outputs": [],
   "source": [
    "import numpy as np\n",
    "preds = np.argmax(predictions, axis=1)\n",
    "print(\"Predictions:\\n\", preds)\n",
    "print(\"Actual:\\n\", test_batches.classes)\n",
    "print(\"Accuracy:\", sum(preds == test_batches.classes)/preds.shape[0])"
   ]
  },
  {
   "cell_type": "code",
   "execution_count": null,
   "metadata": {
    "colab": {
     "base_uri": "https://localhost:8080/",
     "height": 311
    },
    "id": "4yo9-6e1y3ml",
    "outputId": "13aea7e6-5d53-4e4e-bfa5-9620d33e411b"
   },
   "outputs": [],
   "source": [
    "plot_cm(test_batches.classes, preds, classes)"
   ]
  }
 ],
 "metadata": {
  "colab": {
   "name": "transfer_learning.ipynb",
   "provenance": []
  },
  "kernelspec": {
   "display_name": "Python 3",
   "language": "python",
   "name": "python3"
  },
  "language_info": {
   "codemirror_mode": {
    "name": "ipython",
    "version": 3
   },
   "file_extension": ".py",
   "mimetype": "text/x-python",
   "name": "python",
   "nbconvert_exporter": "python",
   "pygments_lexer": "ipython3",
   "version": "3.8.5"
  }
 },
 "nbformat": 4,
 "nbformat_minor": 1
}
