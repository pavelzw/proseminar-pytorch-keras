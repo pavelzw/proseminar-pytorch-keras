{
 "cells": [
  {
   "cell_type": "code",
   "execution_count": 762,
   "metadata": {},
   "outputs": [],
   "source": [
    "import torch\n",
    "from torchvision import datasets, transforms"
   ]
  },
  {
   "cell_type": "markdown",
   "metadata": {
    "pycharm": {
     "name": "#%% md\n"
    }
   },
   "source": [
    "In diesem Beispiel sehen wir uns MNIST an.\n",
    "Hierbei handelt es sich um eine Datenbank aus\n",
    "70000 handgeschriebenen Ziffern, davon 60000 im Trainings-\n",
    "und 10000 im Testdatensatz."
   ]
  },
  {
   "cell_type": "code",
   "execution_count": 763,
   "metadata": {
    "pycharm": {
     "name": "#%%\n"
    }
   },
   "outputs": [],
   "source": [
    "train_set = datasets.MNIST(\"data\", train=True, download=True,\n",
    "                       transform=transforms.Compose([transforms.ToTensor()]))\n",
    "test_set = datasets.MNIST(\"data\", train=False, download=True,\n",
    "                       transform=transforms.Compose([transforms.ToTensor()]))"
   ]
  },
  {
   "cell_type": "markdown",
   "metadata": {
    "pycharm": {
     "name": "#%% md\n"
    }
   },
   "source": [
    "Diesen Datensatz packen wir nun in einen passenden `DataLoader`.\n",
    "Mit diesem können wir gut über Datensätze iterieren."
   ]
  },
  {
   "cell_type": "code",
   "execution_count": 764,
   "metadata": {
    "pycharm": {
     "name": "#%%\n"
    }
   },
   "outputs": [],
   "source": [
    "batch_size = 100\n",
    "\n",
    "train_loader = torch.utils.data.DataLoader(train_set, batch_size=batch_size, shuffle=True)\n",
    "test_loader = torch.utils.data.DataLoader(test_set, batch_size=batch_size, shuffle=False)"
   ]
  },
  {
   "cell_type": "markdown",
   "metadata": {
    "pycharm": {
     "name": "#%% md\n"
    }
   },
   "source": [
    "Das erste Element des DataLoaders sieht wie folgt aus:"
   ]
  },
  {
   "cell_type": "code",
   "execution_count": 765,
   "metadata": {
    "pycharm": {
     "name": "#%%\n"
    }
   },
   "outputs": [
    {
     "name": "stdout",
     "output_type": "stream",
     "text": [
      "[tensor([[[[0., 0., 0.,  ..., 0., 0., 0.],\n",
      "          [0., 0., 0.,  ..., 0., 0., 0.],\n",
      "          [0., 0., 0.,  ..., 0., 0., 0.],\n",
      "          ...,\n",
      "          [0., 0., 0.,  ..., 0., 0., 0.],\n",
      "          [0., 0., 0.,  ..., 0., 0., 0.],\n",
      "          [0., 0., 0.,  ..., 0., 0., 0.]]],\n",
      "\n",
      "\n",
      "        [[[0., 0., 0.,  ..., 0., 0., 0.],\n",
      "          [0., 0., 0.,  ..., 0., 0., 0.],\n",
      "          [0., 0., 0.,  ..., 0., 0., 0.],\n",
      "          ...,\n",
      "          [0., 0., 0.,  ..., 0., 0., 0.],\n",
      "          [0., 0., 0.,  ..., 0., 0., 0.],\n",
      "          [0., 0., 0.,  ..., 0., 0., 0.]]],\n",
      "\n",
      "\n",
      "        [[[0., 0., 0.,  ..., 0., 0., 0.],\n",
      "          [0., 0., 0.,  ..., 0., 0., 0.],\n",
      "          [0., 0., 0.,  ..., 0., 0., 0.],\n",
      "          ...,\n",
      "          [0., 0., 0.,  ..., 0., 0., 0.],\n",
      "          [0., 0., 0.,  ..., 0., 0., 0.],\n",
      "          [0., 0., 0.,  ..., 0., 0., 0.]]],\n",
      "\n",
      "\n",
      "        ...,\n",
      "\n",
      "\n",
      "        [[[0., 0., 0.,  ..., 0., 0., 0.],\n",
      "          [0., 0., 0.,  ..., 0., 0., 0.],\n",
      "          [0., 0., 0.,  ..., 0., 0., 0.],\n",
      "          ...,\n",
      "          [0., 0., 0.,  ..., 0., 0., 0.],\n",
      "          [0., 0., 0.,  ..., 0., 0., 0.],\n",
      "          [0., 0., 0.,  ..., 0., 0., 0.]]],\n",
      "\n",
      "\n",
      "        [[[0., 0., 0.,  ..., 0., 0., 0.],\n",
      "          [0., 0., 0.,  ..., 0., 0., 0.],\n",
      "          [0., 0., 0.,  ..., 0., 0., 0.],\n",
      "          ...,\n",
      "          [0., 0., 0.,  ..., 0., 0., 0.],\n",
      "          [0., 0., 0.,  ..., 0., 0., 0.],\n",
      "          [0., 0., 0.,  ..., 0., 0., 0.]]],\n",
      "\n",
      "\n",
      "        [[[0., 0., 0.,  ..., 0., 0., 0.],\n",
      "          [0., 0., 0.,  ..., 0., 0., 0.],\n",
      "          [0., 0., 0.,  ..., 0., 0., 0.],\n",
      "          ...,\n",
      "          [0., 0., 0.,  ..., 0., 0., 0.],\n",
      "          [0., 0., 0.,  ..., 0., 0., 0.],\n",
      "          [0., 0., 0.,  ..., 0., 0., 0.]]]]), tensor([5, 5, 6, 3, 0, 8, 5, 8, 9, 0, 0, 8, 7, 9, 9, 8, 7, 9, 0, 3, 1, 5, 6, 4,\n",
      "        5, 8, 5, 1, 1, 9, 1, 4, 6, 0, 1, 1, 5, 0, 2, 2, 1, 1, 1, 3, 6, 4, 7, 1,\n",
      "        7, 2, 1, 9, 4, 5, 1, 7, 1, 0, 4, 6, 1, 6, 8, 2, 3, 1, 9, 5, 6, 8, 9, 5,\n",
      "        1, 2, 1, 5, 5, 7, 9, 3, 1, 0, 3, 9, 0, 8, 4, 9, 9, 9, 4, 7, 6, 8, 1, 0,\n",
      "        8, 4, 7, 3])]\n"
     ]
    }
   ],
   "source": [
    "fst_data = next(iter(train_loader))\n",
    "print(fst_data)"
   ]
  },
  {
   "cell_type": "markdown",
   "metadata": {
    "pycharm": {
     "name": "#%% md\n"
    }
   },
   "source": [
    "Betrachten beispielhaft wir die erste Ziffer."
   ]
  },
  {
   "cell_type": "code",
   "execution_count": 766,
   "metadata": {
    "pycharm": {
     "name": "#%%\n"
    }
   },
   "outputs": [
    {
     "data": {
      "text/plain": [
       "Text(0.5, 1.0, 'Value: 5')"
      ]
     },
     "execution_count": 766,
     "metadata": {},
     "output_type": "execute_result"
    },
    {
     "data": {
      "image/png": "[encoded data removed]",
      "text/plain": [
       "<Figure size 432x288 with 1 Axes>"
      ]
     },
     "metadata": {
      "needs_background": "light"
     },
     "output_type": "display_data"
    }
   ],
   "source": [
    "fst_image = fst_data[0][0]\n",
    "fst_digit = fst_data[1][0].item()\n",
    "\n",
    "import matplotlib.pyplot as plt\n",
    "plt.imshow(fst_image.view(fst_image.shape[1], fst_image.shape[2]))\n",
    "plt.title(\"Value: \" + str(fst_digit))"
   ]
  },
  {
   "cell_type": "markdown",
   "metadata": {
    "pycharm": {
     "name": "#%% md\n"
    }
   },
   "source": [
    "### Logistische Regression\n",
    "Nun erstellen wir die Architektur der logistischen Regression."
   ]
  },
  {
   "cell_type": "code",
   "execution_count": 1,
   "metadata": {
    "pycharm": {
     "name": "#%%\n"
    }
   },
   "outputs": [
    {
     "data": {
      "image/svg+xml": [
       "<svg xmlns=\"http://www.w3.org/2000/svg\" xmlns:xlink=\"http://www.w3.org/1999/xlink\" version=\"1.1\" id=\"Ebene_1\" x=\"0px\" y=\"0px\" viewBox=\"0 0 663.5 734.6\" style=\"enable-background:new 0 0 663.5 734.6;\" xml:space=\"preserve\">\n",
       "<style type=\"text/css\">\n",
       "\t.st0{stroke:#505050;stroke-width:0.5;}\n",
       "\t.st1{fill:#FFFFFF;stroke:#333333;}\n",
       "\t.st2{enable-background:new    ;}\n",
       "\t.st3{font-family:'ArialMT';}\n",
       "\t.st4{font-size:12px;}\n",
       "\t.st5{font-family:'MyriadPro-Regular';}\n",
       "\t.st6{stroke:#000000;stroke-width:1.393530e-02;stroke-miterlimit:10;}\n",
       "</style>\n",
       "<g transform=\"translate(8,-70) scale(1)\">\n",
       "\t<path marker-end=\"\" class=\"st0\" d=\"M136.2,118.3l180,80\"/>\n",
       "\t<path marker-end=\"\" class=\"st0\" d=\"M136.2,118.3l180,120\"/>\n",
       "\t<path marker-end=\"\" class=\"st0\" d=\"M136.2,118.3l180,160\"/>\n",
       "\t<path marker-end=\"\" class=\"st0\" d=\"M136.2,118.3l180,200\"/>\n",
       "\t<path marker-end=\"\" class=\"st0\" d=\"M136.2,118.3l180,240\"/>\n",
       "\t<path marker-end=\"\" class=\"st0\" d=\"M136.2,118.3l180,320\"/>\n",
       "\t<path marker-end=\"\" class=\"st0\" d=\"M136.2,118.3l180,360\"/>\n",
       "\t<path marker-end=\"\" class=\"st0\" d=\"M136.2,118.3l180,400\"/>\n",
       "\t<path marker-end=\"\" class=\"st0\" d=\"M136.2,118.3l180,440\"/>\n",
       "\t<path marker-end=\"\" class=\"st0\" d=\"M136.2,118.3l180,480\"/>\n",
       "\t<path marker-end=\"\" class=\"st0\" d=\"M136.2,118.3l180,520\"/>\n",
       "\t<path marker-end=\"\" class=\"st0\" d=\"M136.2,158.3l180,40\"/>\n",
       "\t<path marker-end=\"\" class=\"st0\" d=\"M136.2,158.3l180,80\"/>\n",
       "\t<path marker-end=\"\" class=\"st0\" d=\"M136.2,158.3l180,120\"/>\n",
       "\t<path marker-end=\"\" class=\"st0\" d=\"M136.2,158.3l180,160\"/>\n",
       "\t<path marker-end=\"\" class=\"st0\" d=\"M136.2,158.3l180,200\"/>\n",
       "\t<path marker-end=\"\" class=\"st0\" d=\"M136.2,158.3l180,280\"/>\n",
       "\t<path marker-end=\"\" class=\"st0\" d=\"M136.2,158.3l180,320\"/>\n",
       "\t<path marker-end=\"\" class=\"st0\" d=\"M136.2,158.3l180,360\"/>\n",
       "\t<path marker-end=\"\" class=\"st0\" d=\"M136.2,158.3l180,400\"/>\n",
       "\t<path marker-end=\"\" class=\"st0\" d=\"M136.2,158.3l180,440\"/>\n",
       "\t<path marker-end=\"\" class=\"st0\" d=\"M136.2,158.3l180,480\"/>\n",
       "\t<path marker-end=\"\" class=\"st0\" d=\"M136.2,198.3h180\"/>\n",
       "\t<path marker-end=\"\" class=\"st0\" d=\"M136.2,198.3l180,40\"/>\n",
       "\t<path marker-end=\"\" class=\"st0\" d=\"M136.2,198.3l180,80\"/>\n",
       "\t<path marker-end=\"\" class=\"st0\" d=\"M136.2,198.3l180,120\"/>\n",
       "\t<path marker-end=\"\" class=\"st0\" d=\"M136.2,198.3l180,160\"/>\n",
       "\t<path marker-end=\"\" class=\"st0\" d=\"M136.2,198.3l180,240\"/>\n",
       "\t<path marker-end=\"\" class=\"st0\" d=\"M136.2,198.3l180,280\"/>\n",
       "\t<path marker-end=\"\" class=\"st0\" d=\"M136.2,198.3l180,320\"/>\n",
       "\t<path marker-end=\"\" class=\"st0\" d=\"M136.2,198.3l180,360\"/>\n",
       "\t<path marker-end=\"\" class=\"st0\" d=\"M136.2,198.3l180,400\"/>\n",
       "\t<path marker-end=\"\" class=\"st0\" d=\"M136.2,198.3l180,440\"/>\n",
       "\t<path marker-end=\"\" class=\"st0\" d=\"M136.2,238.3l180-40\"/>\n",
       "\t<path marker-end=\"\" class=\"st0\" d=\"M136.2,238.3h180\"/>\n",
       "\t<path marker-end=\"\" class=\"st0\" d=\"M136.2,238.3l180,40\"/>\n",
       "\t<path marker-end=\"\" class=\"st0\" d=\"M136.2,238.3l180,80\"/>\n",
       "\t<path marker-end=\"\" class=\"st0\" d=\"M136.2,238.3l180,120\"/>\n",
       "\t<path marker-end=\"\" class=\"st0\" d=\"M136.2,238.3l180,200\"/>\n",
       "\t<path marker-end=\"\" class=\"st0\" d=\"M136.2,238.3l180,240\"/>\n",
       "\t<path marker-end=\"\" class=\"st0\" d=\"M136.2,238.3l180,280\"/>\n",
       "\t<path marker-end=\"\" class=\"st0\" d=\"M136.2,238.3l180,320\"/>\n",
       "\t<path marker-end=\"\" class=\"st0\" d=\"M136.2,238.3l180,360\"/>\n",
       "\t<path marker-end=\"\" class=\"st0\" d=\"M136.2,238.3l180,400\"/>\n",
       "\t<path marker-end=\"\" class=\"st0\" d=\"M136.2,278.3l180-80\"/>\n",
       "\t<path marker-end=\"\" class=\"st0\" d=\"M136.2,278.3l180-40\"/>\n",
       "\t<path marker-end=\"\" class=\"st0\" d=\"M136.2,278.3h180\"/>\n",
       "\t<path marker-end=\"\" class=\"st0\" d=\"M136.2,278.3l180,40\"/>\n",
       "\t<path marker-end=\"\" class=\"st0\" d=\"M136.2,278.3l180,80\"/>\n",
       "\t<path marker-end=\"\" class=\"st0\" d=\"M136.2,278.3l180,160\"/>\n",
       "\t<path marker-end=\"\" class=\"st0\" d=\"M136.2,278.3l180,200\"/>\n",
       "\t<path marker-end=\"\" class=\"st0\" d=\"M136.2,278.3l180,240\"/>\n",
       "\t<path marker-end=\"\" class=\"st0\" d=\"M136.2,278.3l180,280\"/>\n",
       "\t<path marker-end=\"\" class=\"st0\" d=\"M136.2,278.3l180,320\"/>\n",
       "\t<path marker-end=\"\" class=\"st0\" d=\"M136.2,278.3l180,360\"/>\n",
       "\t<path marker-end=\"\" class=\"st0\" d=\"M136.2,318.3l180-120\"/>\n",
       "\t<path marker-end=\"\" class=\"st0\" d=\"M136.2,318.3l180-80\"/>\n",
       "\t<path marker-end=\"\" class=\"st0\" d=\"M136.2,318.3l180-40\"/>\n",
       "\t<path marker-end=\"\" class=\"st0\" d=\"M136.2,318.3h180\"/>\n",
       "\t<path marker-end=\"\" class=\"st0\" d=\"M136.2,318.3l180,40\"/>\n",
       "\t<path marker-end=\"\" class=\"st0\" d=\"M136.2,318.3l180,120\"/>\n",
       "\t<path marker-end=\"\" class=\"st0\" d=\"M136.2,318.3l180,160\"/>\n",
       "\t<path marker-end=\"\" class=\"st0\" d=\"M136.2,318.3l180,200\"/>\n",
       "\t<path marker-end=\"\" class=\"st0\" d=\"M136.2,318.3l180,240\"/>\n",
       "\t<path marker-end=\"\" class=\"st0\" d=\"M136.2,318.3l180,280\"/>\n",
       "\t<path marker-end=\"\" class=\"st0\" d=\"M136.2,318.3l180,320\"/>\n",
       "\t<path marker-end=\"\" class=\"st0\" d=\"M136.2,358.3l180-160\"/>\n",
       "\t<path marker-end=\"\" class=\"st0\" d=\"M136.2,358.3l180-120\"/>\n",
       "\t<path marker-end=\"\" class=\"st0\" d=\"M136.2,358.3l180-80\"/>\n",
       "\t<path marker-end=\"\" class=\"st0\" d=\"M136.2,358.3l180-40\"/>\n",
       "\t<path marker-end=\"\" class=\"st0\" d=\"M136.2,358.3h180\"/>\n",
       "\t<path marker-end=\"\" class=\"st0\" d=\"M136.2,358.3l180,80\"/>\n",
       "\t<path marker-end=\"\" class=\"st0\" d=\"M136.2,358.3l180,120\"/>\n",
       "\t<path marker-end=\"\" class=\"st0\" d=\"M136.2,358.3l180,160\"/>\n",
       "\t<path marker-end=\"\" class=\"st0\" d=\"M136.2,358.3l180,200\"/>\n",
       "\t<path marker-end=\"\" class=\"st0\" d=\"M136.2,358.3l180,240\"/>\n",
       "\t<path marker-end=\"\" class=\"st0\" d=\"M136.2,358.3l180,280\"/>\n",
       "\t<path marker-end=\"\" class=\"st0\" d=\"M136.2,438.3l180-240\"/>\n",
       "\t<path marker-end=\"\" class=\"st0\" d=\"M136.2,438.3l180-200\"/>\n",
       "\t<path marker-end=\"\" class=\"st0\" d=\"M136.2,438.3l180-160\"/>\n",
       "\t<path marker-end=\"\" class=\"st0\" d=\"M136.2,438.3l180-120\"/>\n",
       "\t<path marker-end=\"\" class=\"st0\" d=\"M136.2,438.3l180-80\"/>\n",
       "\t<path marker-end=\"\" class=\"st0\" d=\"M136.2,438.3h180\"/>\n",
       "\t<path marker-end=\"\" class=\"st0\" d=\"M136.2,438.3l180,40\"/>\n",
       "\t<path marker-end=\"\" class=\"st0\" d=\"M136.2,438.3l180,80\"/>\n",
       "\t<path marker-end=\"\" class=\"st0\" d=\"M136.2,438.3l180,120\"/>\n",
       "\t<path marker-end=\"\" class=\"st0\" d=\"M136.2,438.3l180,160\"/>\n",
       "\t<path marker-end=\"\" class=\"st0\" d=\"M136.2,438.3l180,200\"/>\n",
       "\t<path marker-end=\"\" class=\"st0\" d=\"M136.2,478.3l180-280\"/>\n",
       "\t<path marker-end=\"\" class=\"st0\" d=\"M136.2,478.3l180-240\"/>\n",
       "\t<path marker-end=\"\" class=\"st0\" d=\"M136.2,478.3l180-200\"/>\n",
       "\t<path marker-end=\"\" class=\"st0\" d=\"M136.2,478.3l180-160\"/>\n",
       "\t<path marker-end=\"\" class=\"st0\" d=\"M136.2,478.3l180-120\"/>\n",
       "\t<path marker-end=\"\" class=\"st0\" d=\"M136.2,478.3l180-40\"/>\n",
       "\t<path marker-end=\"\" class=\"st0\" d=\"M136.2,478.3h180\"/>\n",
       "\t<path marker-end=\"\" class=\"st0\" d=\"M136.2,478.3l180,40\"/>\n",
       "\t<path marker-end=\"\" class=\"st0\" d=\"M136.2,478.3l180,80\"/>\n",
       "\t<path marker-end=\"\" class=\"st0\" d=\"M136.2,478.3l180,120\"/>\n",
       "\t<path marker-end=\"\" class=\"st0\" d=\"M136.2,478.3l180,160\"/>\n",
       "\t<path marker-end=\"\" class=\"st0\" d=\"M136.2,518.3l180-320\"/>\n",
       "\t<path marker-end=\"\" class=\"st0\" d=\"M136.2,518.3l180-280\"/>\n",
       "\t<path marker-end=\"\" class=\"st0\" d=\"M136.2,518.3l180-240\"/>\n",
       "\t<path marker-end=\"\" class=\"st0\" d=\"M136.2,518.3l180-200\"/>\n",
       "\t<path marker-end=\"\" class=\"st0\" d=\"M136.2,518.3l180-160\"/>\n",
       "\t<path marker-end=\"\" class=\"st0\" d=\"M136.2,518.3l180-80\"/>\n",
       "\t<path marker-end=\"\" class=\"st0\" d=\"M136.2,518.3l180-40\"/>\n",
       "\t<path marker-end=\"\" class=\"st0\" d=\"M136.2,518.3h180\"/>\n",
       "\t<path marker-end=\"\" class=\"st0\" d=\"M136.2,518.3l180,40\"/>\n",
       "\t<path marker-end=\"\" class=\"st0\" d=\"M136.2,518.3l180,80\"/>\n",
       "\t<path marker-end=\"\" class=\"st0\" d=\"M136.2,518.3l180,120\"/>\n",
       "\t<path marker-end=\"\" class=\"st0\" d=\"M136.2,558.3l180-360\"/>\n",
       "\t<path marker-end=\"\" class=\"st0\" d=\"M136.2,558.3l180-320\"/>\n",
       "\t<path marker-end=\"\" class=\"st0\" d=\"M136.2,558.3l180-280\"/>\n",
       "\t<path marker-end=\"\" class=\"st0\" d=\"M136.2,558.3l180-240\"/>\n",
       "\t<path marker-end=\"\" class=\"st0\" d=\"M136.2,558.3l180-200\"/>\n",
       "\t<path marker-end=\"\" class=\"st0\" d=\"M136.2,558.3l180-120\"/>\n",
       "\t<path marker-end=\"\" class=\"st0\" d=\"M136.2,558.3l180-80\"/>\n",
       "\t<path marker-end=\"\" class=\"st0\" d=\"M136.2,558.3l180-40\"/>\n",
       "\t<path marker-end=\"\" class=\"st0\" d=\"M136.2,558.3h180\"/>\n",
       "\t<path marker-end=\"\" class=\"st0\" d=\"M136.2,558.3l180,40\"/>\n",
       "\t<path marker-end=\"\" class=\"st0\" d=\"M136.2,558.3l180,80\"/>\n",
       "\t<path marker-end=\"\" class=\"st0\" d=\"M136.2,598.3l180-400\"/>\n",
       "\t<path marker-end=\"\" class=\"st0\" d=\"M136.2,598.3l180-360\"/>\n",
       "\t<path marker-end=\"\" class=\"st0\" d=\"M136.2,598.3l180-320\"/>\n",
       "\t<path marker-end=\"\" class=\"st0\" d=\"M136.2,598.3l180-280\"/>\n",
       "\t<path marker-end=\"\" class=\"st0\" d=\"M136.2,598.3l180-240\"/>\n",
       "\t<path marker-end=\"\" class=\"st0\" d=\"M136.2,598.3l180-160\"/>\n",
       "\t<path marker-end=\"\" class=\"st0\" d=\"M136.2,598.3l180-120\"/>\n",
       "\t<path marker-end=\"\" class=\"st0\" d=\"M136.2,598.3l180-80\"/>\n",
       "\t<path marker-end=\"\" class=\"st0\" d=\"M136.2,598.3l180-40\"/>\n",
       "\t<path marker-end=\"\" class=\"st0\" d=\"M136.2,598.3h180\"/>\n",
       "\t<path marker-end=\"\" class=\"st0\" d=\"M136.2,598.3l180,40\"/>\n",
       "\t<path marker-end=\"\" class=\"st0\" d=\"M136.2,638.3l180-440\"/>\n",
       "\t<path marker-end=\"\" class=\"st0\" d=\"M136.2,638.3l180-400\"/>\n",
       "\t<path marker-end=\"\" class=\"st0\" d=\"M136.2,638.3l180-360\"/>\n",
       "\t<path marker-end=\"\" class=\"st0\" d=\"M136.2,638.3l180-320\"/>\n",
       "\t<path marker-end=\"\" class=\"st0\" d=\"M136.2,638.3l180-280\"/>\n",
       "\t<path marker-end=\"\" class=\"st0\" d=\"M136.2,638.3l180-200\"/>\n",
       "\t<path marker-end=\"\" class=\"st0\" d=\"M136.2,638.3l180-160\"/>\n",
       "\t<path marker-end=\"\" class=\"st0\" d=\"M136.2,638.3l180-120\"/>\n",
       "\t<path marker-end=\"\" class=\"st0\" d=\"M136.2,638.3l180-80\"/>\n",
       "\t<path marker-end=\"\" class=\"st0\" d=\"M136.2,638.3l180-40\"/>\n",
       "\t<path marker-end=\"\" class=\"st0\" d=\"M136.2,638.3h180\"/>\n",
       "\t<path marker-end=\"\" class=\"st0\" d=\"M136.2,678.3l180-480\"/>\n",
       "\t<path marker-end=\"\" class=\"st0\" d=\"M136.2,678.3l180-440\"/>\n",
       "\t<path marker-end=\"\" class=\"st0\" d=\"M136.2,678.3l180-400\"/>\n",
       "\t<path marker-end=\"\" class=\"st0\" d=\"M136.2,678.3l180-360\"/>\n",
       "\t<path marker-end=\"\" class=\"st0\" d=\"M136.2,678.3l180-320\"/>\n",
       "\t<path marker-end=\"\" class=\"st0\" d=\"M136.2,678.3l180-240\"/>\n",
       "\t<path marker-end=\"\" class=\"st0\" d=\"M136.2,678.3l180-200\"/>\n",
       "\t<path marker-end=\"\" class=\"st0\" d=\"M136.2,678.3l180-160\"/>\n",
       "\t<path marker-end=\"\" class=\"st0\" d=\"M136.2,678.3l180-120\"/>\n",
       "\t<path marker-end=\"\" class=\"st0\" d=\"M136.2,678.3l180-80\"/>\n",
       "\t<path marker-end=\"\" class=\"st0\" d=\"M136.2,678.3l180-40\"/>\n",
       "\t<path marker-end=\"\" class=\"st0\" d=\"M136.2,718.3l180-520\"/>\n",
       "\t<path marker-end=\"\" class=\"st0\" d=\"M136.2,718.3l180-480\"/>\n",
       "\t<path marker-end=\"\" class=\"st0\" d=\"M136.2,718.3l180-440\"/>\n",
       "\t<path marker-end=\"\" class=\"st0\" d=\"M136.2,718.3l180-400\"/>\n",
       "\t<path marker-end=\"\" class=\"st0\" d=\"M136.2,718.3l180-360\"/>\n",
       "\t<path marker-end=\"\" class=\"st0\" d=\"M136.2,718.3l180-280\"/>\n",
       "\t<path marker-end=\"\" class=\"st0\" d=\"M136.2,718.3l180-240\"/>\n",
       "\t<path marker-end=\"\" class=\"st0\" d=\"M136.2,718.3l180-200\"/>\n",
       "\t<path marker-end=\"\" class=\"st0\" d=\"M136.2,718.3l180-160\"/>\n",
       "\t<path marker-end=\"\" class=\"st0\" d=\"M136.2,718.3l180-120\"/>\n",
       "\t<path marker-end=\"\" class=\"st0\" d=\"M136.2,718.3l180-80\"/>\n",
       "\t<path marker-end=\"\" class=\"st0\" d=\"M316.2,198.3l180,40\"/>\n",
       "\t<path marker-end=\"\" class=\"st0\" d=\"M316.2,198.3l180,80\"/>\n",
       "\t<path marker-end=\"\" class=\"st0\" d=\"M316.2,198.3l180,120\"/>\n",
       "\t<path marker-end=\"\" class=\"st0\" d=\"M316.2,198.3l180,160\"/>\n",
       "\t<path marker-end=\"\" class=\"st0\" d=\"M316.2,198.3l180,200\"/>\n",
       "\t<path marker-end=\"\" class=\"st0\" d=\"M316.2,198.3l180,240\"/>\n",
       "\t<path marker-end=\"\" class=\"st0\" d=\"M316.2,198.3l180,280\"/>\n",
       "\t<path marker-end=\"\" class=\"st0\" d=\"M316.2,198.3l180,320\"/>\n",
       "\t<path marker-end=\"\" class=\"st0\" d=\"M316.2,198.3l180,360\"/>\n",
       "\t<path marker-end=\"\" class=\"st0\" d=\"M316.2,198.3l180,400\"/>\n",
       "\t<path marker-end=\"\" class=\"st0\" d=\"M316.2,238.3h180\"/>\n",
       "\t<path marker-end=\"\" class=\"st0\" d=\"M316.2,238.3l180,40\"/>\n",
       "\t<path marker-end=\"\" class=\"st0\" d=\"M316.2,238.3l180,80\"/>\n",
       "\t<path marker-end=\"\" class=\"st0\" d=\"M316.2,238.3l180,120\"/>\n",
       "\t<path marker-end=\"\" class=\"st0\" d=\"M316.2,238.3l180,160\"/>\n",
       "\t<path marker-end=\"\" class=\"st0\" d=\"M316.2,238.3l180,200\"/>\n",
       "\t<path marker-end=\"\" class=\"st0\" d=\"M316.2,238.3l180,240\"/>\n",
       "\t<path marker-end=\"\" class=\"st0\" d=\"M316.2,238.3l180,280\"/>\n",
       "\t<path marker-end=\"\" class=\"st0\" d=\"M316.2,238.3l180,320\"/>\n",
       "\t<path marker-end=\"\" class=\"st0\" d=\"M316.2,238.3l180,360\"/>\n",
       "\t<path marker-end=\"\" class=\"st0\" d=\"M316.2,278.3l180-40\"/>\n",
       "\t<path marker-end=\"\" class=\"st0\" d=\"M316.2,278.3h180\"/>\n",
       "\t<path marker-end=\"\" class=\"st0\" d=\"M316.2,278.3l180,40\"/>\n",
       "\t<path marker-end=\"\" class=\"st0\" d=\"M316.2,278.3l180,80\"/>\n",
       "\t<path marker-end=\"\" class=\"st0\" d=\"M316.2,278.3l180,120\"/>\n",
       "\t<path marker-end=\"\" class=\"st0\" d=\"M316.2,278.3l180,160\"/>\n",
       "\t<path marker-end=\"\" class=\"st0\" d=\"M316.2,278.3l180,200\"/>\n",
       "\t<path marker-end=\"\" class=\"st0\" d=\"M316.2,278.3l180,240\"/>\n",
       "\t<path marker-end=\"\" class=\"st0\" d=\"M316.2,278.3l180,280\"/>\n",
       "\t<path marker-end=\"\" class=\"st0\" d=\"M316.2,278.3l180,320\"/>\n",
       "\t<path marker-end=\"\" class=\"st0\" d=\"M316.2,318.3l180-80\"/>\n",
       "\t<path marker-end=\"\" class=\"st0\" d=\"M316.2,318.3l180-40\"/>\n",
       "\t<path marker-end=\"\" class=\"st0\" d=\"M316.2,318.3h180\"/>\n",
       "\t<path marker-end=\"\" class=\"st0\" d=\"M316.2,318.3l180,40\"/>\n",
       "\t<path marker-end=\"\" class=\"st0\" d=\"M316.2,318.3l180,80\"/>\n",
       "\t<path marker-end=\"\" class=\"st0\" d=\"M316.2,318.3l180,120\"/>\n",
       "\t<path marker-end=\"\" class=\"st0\" d=\"M316.2,318.3l180,160\"/>\n",
       "\t<path marker-end=\"\" class=\"st0\" d=\"M316.2,318.3l180,200\"/>\n",
       "\t<path marker-end=\"\" class=\"st0\" d=\"M316.2,318.3l180,240\"/>\n",
       "\t<path marker-end=\"\" class=\"st0\" d=\"M316.2,318.3l180,280\"/>\n",
       "\t<path marker-end=\"\" class=\"st0\" d=\"M316.2,358.3l180-120\"/>\n",
       "\t<path marker-end=\"\" class=\"st0\" d=\"M316.2,358.3l180-80\"/>\n",
       "\t<path marker-end=\"\" class=\"st0\" d=\"M316.2,358.3l180-40\"/>\n",
       "\t<path marker-end=\"\" class=\"st0\" d=\"M316.2,358.3h180\"/>\n",
       "\t<path marker-end=\"\" class=\"st0\" d=\"M316.2,358.3l180,40\"/>\n",
       "\t<path marker-end=\"\" class=\"st0\" d=\"M316.2,358.3l180,80\"/>\n",
       "\t<path marker-end=\"\" class=\"st0\" d=\"M316.2,358.3l180,120\"/>\n",
       "\t<path marker-end=\"\" class=\"st0\" d=\"M316.2,358.3l180,160\"/>\n",
       "\t<path marker-end=\"\" class=\"st0\" d=\"M316.2,358.3l180,200\"/>\n",
       "\t<path marker-end=\"\" class=\"st0\" d=\"M316.2,358.3l180,240\"/>\n",
       "\t<path marker-end=\"\" class=\"st0\" d=\"M316.2,438.3l180-200\"/>\n",
       "\t<path marker-end=\"\" class=\"st0\" d=\"M316.2,438.3l180-160\"/>\n",
       "\t<path marker-end=\"\" class=\"st0\" d=\"M316.2,438.3l180-120\"/>\n",
       "\t<path marker-end=\"\" class=\"st0\" d=\"M316.2,438.3l180-80\"/>\n",
       "\t<path marker-end=\"\" class=\"st0\" d=\"M316.2,438.3l180-40\"/>\n",
       "\t<path marker-end=\"\" class=\"st0\" d=\"M316.2,438.3h180\"/>\n",
       "\t<path marker-end=\"\" class=\"st0\" d=\"M316.2,438.3l180,40\"/>\n",
       "\t<path marker-end=\"\" class=\"st0\" d=\"M316.2,438.3l180,80\"/>\n",
       "\t<path marker-end=\"\" class=\"st0\" d=\"M316.2,438.3l180,120\"/>\n",
       "\t<path marker-end=\"\" class=\"st0\" d=\"M316.2,438.3l180,160\"/>\n",
       "\t<path marker-end=\"\" class=\"st0\" d=\"M316.2,478.3l180-240\"/>\n",
       "\t<path marker-end=\"\" class=\"st0\" d=\"M316.2,478.3l180-200\"/>\n",
       "\t<path marker-end=\"\" class=\"st0\" d=\"M316.2,478.3l180-160\"/>\n",
       "\t<path marker-end=\"\" class=\"st0\" d=\"M316.2,478.3l180-120\"/>\n",
       "\t<path marker-end=\"\" class=\"st0\" d=\"M316.2,478.3l180-80\"/>\n",
       "\t<path marker-end=\"\" class=\"st0\" d=\"M316.2,478.3l180-40\"/>\n",
       "\t<path marker-end=\"\" class=\"st0\" d=\"M316.2,478.3h180\"/>\n",
       "\t<path marker-end=\"\" class=\"st0\" d=\"M316.2,478.3l180,40\"/>\n",
       "\t<path marker-end=\"\" class=\"st0\" d=\"M316.2,478.3l180,80\"/>\n",
       "\t<path marker-end=\"\" class=\"st0\" d=\"M316.2,478.3l180,120\"/>\n",
       "\t<path marker-end=\"\" class=\"st0\" d=\"M316.2,518.3l180-280\"/>\n",
       "\t<path marker-end=\"\" class=\"st0\" d=\"M316.2,518.3l180-240\"/>\n",
       "\t<path marker-end=\"\" class=\"st0\" d=\"M316.2,518.3l180-200\"/>\n",
       "\t<path marker-end=\"\" class=\"st0\" d=\"M316.2,518.3l180-160\"/>\n",
       "\t<path marker-end=\"\" class=\"st0\" d=\"M316.2,518.3l180-120\"/>\n",
       "\t<path marker-end=\"\" class=\"st0\" d=\"M316.2,518.3l180-80\"/>\n",
       "\t<path marker-end=\"\" class=\"st0\" d=\"M316.2,518.3l180-40\"/>\n",
       "\t<path marker-end=\"\" class=\"st0\" d=\"M316.2,518.3h180\"/>\n",
       "\t<path marker-end=\"\" class=\"st0\" d=\"M316.2,518.3l180,40\"/>\n",
       "\t<path marker-end=\"\" class=\"st0\" d=\"M316.2,518.3l180,80\"/>\n",
       "\t<path marker-end=\"\" class=\"st0\" d=\"M316.2,558.3l180-320\"/>\n",
       "\t<path marker-end=\"\" class=\"st0\" d=\"M316.2,558.3l180-280\"/>\n",
       "\t<path marker-end=\"\" class=\"st0\" d=\"M316.2,558.3l180-240\"/>\n",
       "\t<path marker-end=\"\" class=\"st0\" d=\"M316.2,558.3l180-200\"/>\n",
       "\t<path marker-end=\"\" class=\"st0\" d=\"M316.2,558.3l180-160\"/>\n",
       "\t<path marker-end=\"\" class=\"st0\" d=\"M316.2,558.3l180-120\"/>\n",
       "\t<path marker-end=\"\" class=\"st0\" d=\"M316.2,558.3l180-80\"/>\n",
       "\t<path marker-end=\"\" class=\"st0\" d=\"M316.2,558.3l180-40\"/>\n",
       "\t<path marker-end=\"\" class=\"st0\" d=\"M316.2,558.3h180\"/>\n",
       "\t<path marker-end=\"\" class=\"st0\" d=\"M316.2,558.3l180,40\"/>\n",
       "\t<path marker-end=\"\" class=\"st0\" d=\"M316.2,598.3l180-360\"/>\n",
       "\t<path marker-end=\"\" class=\"st0\" d=\"M316.2,598.3l180-320\"/>\n",
       "\t<path marker-end=\"\" class=\"st0\" d=\"M316.2,598.3l180-280\"/>\n",
       "\t<path marker-end=\"\" class=\"st0\" d=\"M316.2,598.3l180-240\"/>\n",
       "\t<path marker-end=\"\" class=\"st0\" d=\"M316.2,598.3l180-200\"/>\n",
       "\t<path marker-end=\"\" class=\"st0\" d=\"M316.2,598.3l180-160\"/>\n",
       "\t<path marker-end=\"\" class=\"st0\" d=\"M316.2,598.3l180-120\"/>\n",
       "\t<path marker-end=\"\" class=\"st0\" d=\"M316.2,598.3l180-80\"/>\n",
       "\t<path marker-end=\"\" class=\"st0\" d=\"M316.2,598.3l180-40\"/>\n",
       "\t<path marker-end=\"\" class=\"st0\" d=\"M316.2,598.3h180\"/>\n",
       "\t<path marker-end=\"\" class=\"st0\" d=\"M316.2,638.3l180-400\"/>\n",
       "\t<path marker-end=\"\" class=\"st0\" d=\"M316.2,638.3l180-360\"/>\n",
       "\t<path marker-end=\"\" class=\"st0\" d=\"M316.2,638.3l180-320\"/>\n",
       "\t<path marker-end=\"\" class=\"st0\" d=\"M316.2,638.3l180-280\"/>\n",
       "\t<path marker-end=\"\" class=\"st0\" d=\"M316.2,638.3l180-240\"/>\n",
       "\t<path marker-end=\"\" class=\"st0\" d=\"M316.2,638.3l180-200\"/>\n",
       "\t<path marker-end=\"\" class=\"st0\" d=\"M316.2,638.3l180-160\"/>\n",
       "\t<path marker-end=\"\" class=\"st0\" d=\"M316.2,638.3l180-120\"/>\n",
       "\t<path marker-end=\"\" class=\"st0\" d=\"M316.2,638.3l180-80\"/>\n",
       "\t<path marker-end=\"\" class=\"st0\" d=\"M316.2,638.3l180-40\"/>\n",
       "\t<circle id=\"_x30__x5F_0\" class=\"st1\" cx=\"136.2\" cy=\"118.3\" r=\"10\"/>\n",
       "\t<circle id=\"_x30__x5F_1\" class=\"st1\" cx=\"136.2\" cy=\"158.3\" r=\"10\"/>\n",
       "\t<circle id=\"_x30__x5F_2\" class=\"st1\" cx=\"136.2\" cy=\"198.3\" r=\"10\"/>\n",
       "\t<circle id=\"_x30__x5F_3\" class=\"st1\" cx=\"136.2\" cy=\"238.3\" r=\"10\"/>\n",
       "\t<circle id=\"_x30__x5F_4\" class=\"st1\" cx=\"136.2\" cy=\"278.3\" r=\"10\"/>\n",
       "\t<circle id=\"_x30__x5F_5\" class=\"st1\" cx=\"136.2\" cy=\"318.3\" r=\"10\"/>\n",
       "\t<circle id=\"_x30__x5F_6\" class=\"st1\" cx=\"136.2\" cy=\"358.3\" r=\"10\"/>\n",
       "\t<circle id=\"_x30__x5F_8\" class=\"st1\" cx=\"136.2\" cy=\"438.3\" r=\"10\"/>\n",
       "\t<circle id=\"_x30__x5F_9\" class=\"st1\" cx=\"136.2\" cy=\"478.3\" r=\"10\"/>\n",
       "\t<circle id=\"_x30__x5F_10\" class=\"st1\" cx=\"136.2\" cy=\"518.3\" r=\"10\"/>\n",
       "\t<circle id=\"_x30__x5F_11\" class=\"st1\" cx=\"136.2\" cy=\"558.3\" r=\"10\"/>\n",
       "\t<circle id=\"_x30__x5F_12\" class=\"st1\" cx=\"136.2\" cy=\"598.3\" r=\"10\"/>\n",
       "\t<circle id=\"_x30__x5F_13\" class=\"st1\" cx=\"136.2\" cy=\"638.3\" r=\"10\"/>\n",
       "\t<circle id=\"_x30__x5F_14\" class=\"st1\" cx=\"136.2\" cy=\"678.3\" r=\"10\"/>\n",
       "\t<circle id=\"_x30__x5F_15\" class=\"st1\" cx=\"136.2\" cy=\"718.3\" r=\"10\"/>\n",
       "\t<circle id=\"_x31__x5F_0\" class=\"st1\" cx=\"316.2\" cy=\"198.3\" r=\"10\"/>\n",
       "\t<circle id=\"_x31__x5F_1\" class=\"st1\" cx=\"316.2\" cy=\"238.3\" r=\"10\"/>\n",
       "\t<circle id=\"_x31__x5F_2\" class=\"st1\" cx=\"316.2\" cy=\"278.3\" r=\"10\"/>\n",
       "\t<circle id=\"_x31__x5F_3\" class=\"st1\" cx=\"316.2\" cy=\"318.3\" r=\"10\"/>\n",
       "\t<circle id=\"_x31__x5F_4\" class=\"st1\" cx=\"316.2\" cy=\"358.3\" r=\"10\"/>\n",
       "\t<circle id=\"_x31__x5F_6\" class=\"st1\" cx=\"316.2\" cy=\"438.3\" r=\"10\"/>\n",
       "\t<circle id=\"_x31__x5F_7\" class=\"st1\" cx=\"316.2\" cy=\"478.3\" r=\"10\"/>\n",
       "\t<circle id=\"_x31__x5F_8\" class=\"st1\" cx=\"316.2\" cy=\"518.3\" r=\"10\"/>\n",
       "\t<circle id=\"_x31__x5F_9\" class=\"st1\" cx=\"316.2\" cy=\"558.3\" r=\"10\"/>\n",
       "\t<circle id=\"_x31__x5F_10\" class=\"st1\" cx=\"316.2\" cy=\"598.3\" r=\"10\"/>\n",
       "\t<circle id=\"_x31__x5F_11\" class=\"st1\" cx=\"316.2\" cy=\"638.3\" r=\"10\"/>\n",
       "\t<circle id=\"_x32__x5F_0\" class=\"st1\" cx=\"496.2\" cy=\"238.3\" r=\"10\"/>\n",
       "\t<circle id=\"_x32__x5F_1\" class=\"st1\" cx=\"496.2\" cy=\"278.3\" r=\"10\"/>\n",
       "\t<circle id=\"_x32__x5F_2\" class=\"st1\" cx=\"496.2\" cy=\"318.3\" r=\"10\"/>\n",
       "\t<circle id=\"_x32__x5F_3\" class=\"st1\" cx=\"496.2\" cy=\"358.3\" r=\"10\"/>\n",
       "\t<circle id=\"_x32__x5F_4\" class=\"st1\" cx=\"496.2\" cy=\"398.3\" r=\"10\"/>\n",
       "\t<circle id=\"_x32__x5F_5\" class=\"st1\" cx=\"496.2\" cy=\"438.3\" r=\"10\"/>\n",
       "\t<circle id=\"_x32__x5F_6\" class=\"st1\" cx=\"496.2\" cy=\"478.3\" r=\"10\"/>\n",
       "\t<circle id=\"_x32__x5F_7\" class=\"st1\" cx=\"496.2\" cy=\"518.3\" r=\"10\"/>\n",
       "\t<circle id=\"_x32__x5F_8\" class=\"st1\" cx=\"496.2\" cy=\"558.3\" r=\"10\"/>\n",
       "\t<circle id=\"_x32__x5F_9\" class=\"st1\" cx=\"496.2\" cy=\"598.3\" r=\"10\"/>\n",
       "\t<text transform=\"matrix(1 0 0 1 101.2343 762.4604)\" class=\"st2\"><tspan x=\"0\" y=\"0\" class=\"st3 st4\">Input Layer </tspan><tspan x=\"63.4\" y=\"0\" class=\"st5 st4\">28*28</tspan></text>\n",
       "\t<text transform=\"matrix(1 0 0 1 281.2343 762.4604)\" class=\"st2\"><tspan x=\"0\" y=\"0\" class=\"st3 st4\">Hidden Layer </tspan><tspan x=\"74.7\" y=\"0\" class=\"st5 st4\">64</tspan></text>\n",
       "\t<text transform=\"matrix(1 0 0 1 461.2344 762.4604)\" class=\"st2\"><tspan x=\"0\" y=\"0\" class=\"st3 st4\">Output Layer </tspan><tspan x=\"72.7\" y=\"0\" class=\"st5 st4\">10</tspan></text>\n",
       "\t<g>\n",
       "\t\t<path id=\"E1-MJMAIN-22EE_2_\" class=\"st6\" d=\"M135.4,403.9c0-0.2,0.1-0.4,0.2-0.6c0.2-0.2,0.4-0.3,0.6-0.3c0.2,0,0.4,0.1,0.6,0.2    c0.2,0.1,0.3,0.3,0.3,0.6c0,0.2-0.1,0.4-0.2,0.6c-0.2,0.2-0.4,0.3-0.6,0.3c-0.2,0-0.4-0.1-0.6-0.2    C135.5,404.3,135.4,404.1,135.4,403.9z M135.4,398.2c0-0.2,0.1-0.4,0.2-0.6c0.2-0.2,0.4-0.3,0.6-0.3c0.2,0,0.4,0.1,0.6,0.2    c0.2,0.1,0.3,0.3,0.3,0.6c0,0.2-0.1,0.4-0.2,0.6c-0.2,0.2-0.4,0.3-0.6,0.3c-0.2,0-0.4-0.1-0.6-0.2    C135.5,398.6,135.4,398.4,135.4,398.2z M135.4,392.6c0-0.2,0.1-0.4,0.2-0.6c0.2-0.2,0.4-0.3,0.6-0.3c0.2,0,0.4,0.1,0.6,0.2    c0.2,0.1,0.3,0.3,0.3,0.6c0,0.2-0.1,0.4-0.2,0.6c-0.2,0.2-0.4,0.3-0.6,0.3c-0.2,0-0.4-0.1-0.6-0.2    C135.5,393.1,135.4,392.9,135.4,392.6z\"/>\n",
       "\t</g>\n",
       "\t<g>\n",
       "\t\t<path id=\"E1-MJMAIN-22EE_1_\" class=\"st6\" d=\"M316.4,404c0-0.2,0.1-0.4,0.2-0.6c0.2-0.2,0.4-0.3,0.6-0.3c0.2,0,0.4,0.1,0.6,0.2    c0.2,0.1,0.3,0.3,0.3,0.6c0,0.2-0.1,0.4-0.2,0.6c-0.2,0.2-0.4,0.3-0.6,0.3s-0.4-0.1-0.6-0.2S316.4,404.2,316.4,404z M316.4,398.3    c0-0.2,0.1-0.4,0.2-0.6c0.2-0.2,0.4-0.3,0.6-0.3c0.2,0,0.4,0.1,0.6,0.2c0.2,0.1,0.3,0.3,0.3,0.6c0,0.2-0.1,0.4-0.2,0.6    c-0.2,0.2-0.4,0.3-0.6,0.3s-0.4-0.1-0.6-0.2S316.4,398.5,316.4,398.3z M316.4,392.7c0-0.2,0.1-0.4,0.2-0.6    c0.2-0.2,0.4-0.3,0.6-0.3c0.2,0,0.4,0.1,0.6,0.2c0.2,0.1,0.3,0.3,0.3,0.6c0,0.2-0.1,0.4-0.2,0.6c-0.2,0.2-0.4,0.3-0.6,0.3    s-0.4-0.1-0.6-0.2S316.4,392.9,316.4,392.7z\"/>\n",
       "\t</g>\n",
       "</g>\n",
       "</svg>"
      ],
      "text/plain": [
       "<IPython.core.display.SVG object>"
      ]
     },
     "execution_count": 1,
     "metadata": {},
     "output_type": "execute_result"
    }
   ],
   "source": [
    "from IPython.display import SVG\n",
    "SVG('assets/fcnn-28x28-64-10.svg')"
   ]
  },
  {
   "cell_type": "code",
   "execution_count": 768,
   "metadata": {
    "pycharm": {
     "name": "#%%\n"
    }
   },
   "outputs": [],
   "source": [
    "class LogisticRegression(torch.nn.Module):\n",
    "    def __init__(self, input_dim, output_dim):\n",
    "        super().__init__()\n",
    "        self.fc1 = torch.nn.Linear(input_dim, 64)\n",
    "        self.fc2 = torch.nn.Linear(64, output_dim)\n",
    "\n",
    "    def forward(self, x):\n",
    "        # activation function\n",
    "        # activation = torch.sigmoid # 70%\n",
    "        activation = torch.relu # 73%\n",
    "        # activation = torch.nn.functional.leaky_relu # 77%\n",
    "        # activation = torch.nn.functional.gelu # 82%\n",
    "        # activation = torch.tanh # 84%\n",
    "        # no activation function: 82%\n",
    "\n",
    "        x = activation(self.fc1(x))\n",
    "        x = self.fc2(x)\n",
    "        return torch.log_softmax(x, dim=1)"
   ]
  },
  {
   "cell_type": "code",
   "execution_count": 769,
   "metadata": {
    "pycharm": {
     "name": "#%%\n"
    }
   },
   "outputs": [],
   "source": [
    "n_iters = 3000\n",
    "epochs = int(n_iters / (len(train_set) / batch_size))\n",
    "input_dim = 28*28\n",
    "output_dim = 10\n",
    "lr_rate = 0.01"
   ]
  },
  {
   "cell_type": "code",
   "execution_count": 770,
   "metadata": {
    "pycharm": {
     "name": "#%%\n"
    }
   },
   "outputs": [],
   "source": [
    "model = LogisticRegression(input_dim, output_dim)"
   ]
  },
  {
   "cell_type": "markdown",
   "metadata": {
    "pycharm": {
     "name": "#%% md\n"
    }
   },
   "source": [
    "Jetzt initialisieren wir die Loss class und den Optimizer (Stochastic Gradient Descent)."
   ]
  },
  {
   "cell_type": "code",
   "execution_count": 771,
   "metadata": {
    "pycharm": {
     "name": "#%%\n"
    }
   },
   "outputs": [],
   "source": [
    "criterion = torch.nn.CrossEntropyLoss()\n",
    "optimizer = torch.optim.SGD(model.parameters(), lr=lr_rate)"
   ]
  },
  {
   "cell_type": "code",
   "execution_count": 772,
   "metadata": {
    "pycharm": {
     "name": "#%%\n"
    }
   },
   "outputs": [
    {
     "name": "stdout",
     "output_type": "stream",
     "text": [
      "LogisticRegression(\n",
      "  (fc1): Linear(in_features=784, out_features=64, bias=True)\n",
      "  (fc2): Linear(in_features=64, out_features=10, bias=True)\n",
      ")\n",
      "5\n",
      "Iteration: 0. Loss: 2.30462. Test Accuracy: 0.103.\n",
      "Iteration: 250. Loss: 1.79649. Test Accuracy: 0.672.\n",
      "Iteration: 500. Loss: 1.01611. Test Accuracy: 0.791.\n",
      "Iteration: 750. Loss: 0.65188. Test Accuracy: 0.835.\n",
      "Iteration: 1000. Loss: 0.56011. Test Accuracy: 0.862.\n",
      "Iteration: 1250. Loss: 0.48724. Test Accuracy: 0.875.\n",
      "Iteration: 1500. Loss: 0.36060. Test Accuracy: 0.883.\n",
      "Iteration: 1750. Loss: 0.33541. Test Accuracy: 0.889.\n",
      "Iteration: 2000. Loss: 0.44405. Test Accuracy: 0.893.\n",
      "Iteration: 2250. Loss: 0.32313. Test Accuracy: 0.899.\n",
      "Iteration: 2500. Loss: 0.48706. Test Accuracy: 0.900.\n",
      "Iteration: 2750. Loss: 0.30016. Test Accuracy: 0.902.\n",
      "Final accuracy: 0.9038\n"
     ]
    }
   ],
   "source": [
    "from torch.autograd import Variable\n",
    "import numpy as np\n",
    "\n",
    "def calculate_accuracy(loader):\n",
    "    correct = 0\n",
    "    total = 0\n",
    "    for images_test, labels_test in loader:\n",
    "        images_test = Variable(images_test.view(-1, 28*28))\n",
    "        outputs = model(images_test)\n",
    "        _, predicted = torch.max(outputs.data, 1)\n",
    "        total += labels_test.size(0)\n",
    "        correct += (predicted == labels_test).sum()\n",
    "    acc = correct.item() / total\n",
    "    return acc\n",
    "\n",
    "accuracy_steps = 250\n",
    "accuracies = np.empty(int(n_iters / accuracy_steps))\n",
    "\n",
    "print(model)\n",
    "\n",
    "for epoch in range(epochs):\n",
    "    for i, (images, labels) in enumerate(train_loader):\n",
    "        # we use torch.autograd.Variable for backpropagation\n",
    "        images = Variable(images.view(-1, 28 * 28))\n",
    "        labels = Variable(labels)\n",
    "\n",
    "        optimizer.zero_grad()\n",
    "\n",
    "        outputs = model(images)\n",
    "        loss = criterion(outputs, labels)\n",
    "        loss.backward()\n",
    "        optimizer.step()\n",
    "\n",
    "        iteration = epoch * len(train_loader) + i\n",
    "        if iteration % accuracy_steps == 0:\n",
    "            test_accuracy = calculate_accuracy(test_loader)\n",
    "            accuracies[int(iteration / accuracy_steps)] = test_accuracy\n",
    "\n",
    "            print(f\"Iteration: {iteration}. Loss: {loss.item():.5f}. Test Accuracy: {test_accuracy:.3f}.\")\n",
    "print(f\"Final accuracy: {calculate_accuracy(test_loader)}\")"
   ]
  },
  {
   "cell_type": "code",
   "execution_count": 773,
   "metadata": {
    "pycharm": {
     "name": "#%%\n"
    }
   },
   "outputs": [
    {
     "data": {
      "image/png": "[encoded data removed]",
      "text/plain": [
       "<Figure size 432x288 with 1 Axes>"
      ]
     },
     "metadata": {
      "needs_background": "light"
     },
     "output_type": "display_data"
    }
   ],
   "source": [
    "import matplotlib.pyplot as plt\n",
    "\n",
    "plt.plot(accuracies)\n",
    "plt.gca().axes.xaxis.set_visible(False)\n",
    "plt.title(\"Accuracy\")\n",
    "plt.xlabel(\"\")\n",
    "plt.show()"
   ]
  }
 ],
 "metadata": {
  "kernelspec": {
   "display_name": "Python 3",
   "language": "python",
   "name": "python3"
  },
  "language_info": {
   "codemirror_mode": {
    "name": "ipython",
    "version": 3
   },
   "file_extension": ".py",
   "mimetype": "text/x-python",
   "name": "python",
   "nbconvert_exporter": "python",
   "pygments_lexer": "ipython3",
   "version": "3.8.5"
  }
 },
 "nbformat": 4,
 "nbformat_minor": 1
}
