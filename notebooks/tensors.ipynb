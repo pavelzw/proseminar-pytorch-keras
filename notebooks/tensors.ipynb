{
 "cells": [
  {
   "cell_type": "code",
   "execution_count": 163,
   "metadata": {
    "collapsed": true
   },
   "outputs": [],
   "source": [
    "import numpy as np\n",
    "import torch"
   ]
  },
  {
   "cell_type": "markdown",
   "source": [
    "$x = \\begin{pmatrix}1 \\\\ -1 \\\\ 0 \\end{pmatrix}, \\quad\n",
    "A = \\begin{pmatrix} 1 & 2 & 3 \\\\ 4 & 5 & 6 \\end{pmatrix}$\n",
    "\n",
    "$ A \\cdot x = \\begin{pmatrix} -1 \\\\ -1 \\end{pmatrix}. $"
   ],
   "metadata": {
    "collapsed": false,
    "pycharm": {
     "name": "#%% md\n"
    }
   }
  },
  {
   "cell_type": "code",
   "execution_count": 164,
   "outputs": [
    {
     "name": "stdout",
     "output_type": "stream",
     "text": [
      "Ax = \n",
      "tensor([-1., -1.]) \n",
      "\n",
      "A*x =\n",
      "tensor([[ 1., -2.,  0.],\n",
      "        [ 4., -5.,  0.]])\n"
     ]
    }
   ],
   "source": [
    "x = torch.tensor([1., -1., 0.], dtype=torch.float)\n",
    "a = torch.tensor(np.array([[1, 2, 3], [4, 5, 6]]), dtype=torch.float)\n",
    "\n",
    "print(\"Ax = \")\n",
    "print(a @ x, \"\\n\")\n",
    "\n",
    "print(\"A*x =\")\n",
    "print(a * x)"
   ],
   "metadata": {
    "collapsed": false,
    "pycharm": {
     "name": "#%%\n"
    }
   }
  },
  {
   "cell_type": "markdown",
   "source": [
    "Achtung: `torch.tensor()` kopiert Daten.\n",
    "Falls ihr ein numpy array inplace in einen Tensor konvertieren wollt, benutzt `torch.as_tensor()`.\n"
   ],
   "metadata": {
    "collapsed": false
   }
  },
  {
   "cell_type": "markdown",
   "source": [
    "$ b = \\begin{pmatrix} 1 \\\\ 2 \\end{pmatrix} $\n",
    "\n",
    "$ \\begin{pmatrix} 1 & 1 & 1 \\\\ 2 & 2 & 2 \\end{pmatrix} *\n",
    "\\begin{pmatrix} 1 & 2 & 3 \\\\ 4 & 5 & 6 \\end{pmatrix}\n",
    "= \\begin{pmatrix} 1 & 2 & 3 \\\\ 8 & 10 & 12 \\end{pmatrix} $"
   ],
   "metadata": {
    "collapsed": false,
    "pycharm": {
     "name": "#%% md\n"
    }
   }
  },
  {
   "cell_type": "code",
   "execution_count": 165,
   "outputs": [
    {
     "name": "stdout",
     "output_type": "stream",
     "text": [
      "b.repeat(3).view(3,2).T = \n",
      "tensor([[1, 1, 1],\n",
      "        [2, 2, 2]]) \n",
      "\n",
      "b * a = \n",
      "tensor([[ 1.,  2.,  3.],\n",
      "        [ 8., 10., 12.]])\n"
     ]
    }
   ],
   "source": [
    "b = torch.tensor([1, 2])\n",
    "print(\"b.repeat(3).view(3,2).T = \")\n",
    "print(b.repeat(3).view(3,2).T, \"\\n\")\n",
    "\n",
    "print(\"b * a = \")\n",
    "print(b.repeat(3).view(3,2).T * a)"
   ],
   "metadata": {
    "collapsed": false,
    "pycharm": {
     "name": "#%%\n"
    }
   }
  },
  {
   "cell_type": "markdown",
   "source": [
    "$I_n$ wird durch `toch.eye(n)` erstellt.\n",
    "\n",
    "$0_{n,k}$ wird durch `torch.zeros(n, k)` erstellt."
   ],
   "metadata": {
    "collapsed": false,
    "pycharm": {
     "name": "#%% md\n"
    }
   }
  },
  {
   "cell_type": "code",
   "execution_count": null,
   "outputs": [],
   "source": [
    "print(torch.eye(5))\n",
    "print(torch.zeros(3, 5))"
   ],
   "metadata": {
    "collapsed": false,
    "pycharm": {
     "name": "#%%\n"
    }
   }
  },
  {
   "cell_type": "markdown",
   "source": [
    "$A_{i,j}$ wird durch `a[i][j]` oder `a[i,j]` erreicht.\n",
    "Achtung: anders als in z. B. R oder Matlab wird hier nullindiziert.\n",
    "\n",
    "$A = \\begin{pmatrix} 1 & 2 & 3 \\\\ 4 & 5 & 6 \\end{pmatrix} $. Also ist $A_{1,1} = 5$.\n",
    "\n",
    "Einzelne Werte können durch `a[i,j].item()` ausgegeben."
   ],
   "metadata": {
    "collapsed": false,
    "pycharm": {
     "name": "#%% md\n"
    }
   }
  },
  {
   "cell_type": "code",
   "execution_count": 167,
   "outputs": [
    {
     "name": "stdout",
     "output_type": "stream",
     "text": [
      "a[1,1] = \n",
      "tensor(5.) \n",
      "\n",
      "a[1,1].item() = \n",
      "5.0 \n",
      "\n"
     ]
    }
   ],
   "source": [
    "print(\"a[1,1] = \")\n",
    "print(a[1,1], \"\\n\")\n",
    "\n",
    "print(\"a[1,1].item() = \")\n",
    "print(a[1,1].item(), \"\\n\")"
   ],
   "metadata": {
    "collapsed": false,
    "pycharm": {
     "name": "#%%\n"
    }
   }
  },
  {
   "cell_type": "markdown",
   "source": [
    "$A_{i,*}$ wird durch `a[i,:]` oder `a[i]` erreicht.\n",
    "\n",
    "$A_{*,i}$ wird durch `a[:,i]` erreicht."
   ],
   "metadata": {
    "collapsed": false,
    "pycharm": {
     "name": "#%% md\n"
    }
   }
  },
  {
   "cell_type": "code",
   "execution_count": 168,
   "outputs": [
    {
     "name": "stdout",
     "output_type": "stream",
     "text": [
      "a = \n",
      "tensor([[1., 2., 3.],\n",
      "        [4., 5., 6.]]) \n",
      "\n",
      "a[0,:] = a[0] = \n",
      "tensor([1., 2., 3.]) \n",
      "\n",
      "a[:,2] = \n",
      "tensor([3., 6.]) \n",
      "\n",
      "a = \n",
      "tensor([[ 1.,  2.,  3.],\n",
      "        [ 4.,  5., 42.]])\n"
     ]
    }
   ],
   "source": [
    "print(\"a = \")\n",
    "print(a, \"\\n\")\n",
    "\n",
    "print(\"a[0,:] = a[0] = \")\n",
    "print(a[0,:], \"\\n\")\n",
    "\n",
    "print(\"a[:,2] = \")\n",
    "print(a[:,2], \"\\n\")\n",
    "\n",
    "a[1,2] = 42\n",
    "print(\"a = \")\n",
    "print(a)"
   ],
   "metadata": {
    "collapsed": false,
    "pycharm": {
     "name": "#%%\n"
    }
   }
  },
  {
   "cell_type": "markdown",
   "source": [
    "$\\begin{pmatrix} 22 & \\cdots & 42 \\end{pmatrix}$ erreichen wir durch `torch.linspace()`"
   ],
   "metadata": {
    "collapsed": false,
    "pycharm": {
     "name": "#%% md\n"
    }
   }
  },
  {
   "cell_type": "code",
   "execution_count": 169,
   "outputs": [
    {
     "name": "stdout",
     "output_type": "stream",
     "text": [
      "tensor([22., 23., 24., 25., 26., 27., 28., 29., 30., 31., 32., 33., 34., 35.,\n",
      "        36., 37., 38., 39., 40., 41., 42.])\n"
     ]
    }
   ],
   "source": [
    "print(torch.linspace(start=22, end=42, steps=42-22+1))"
   ],
   "metadata": {
    "collapsed": false,
    "pycharm": {
     "name": "#%%\n"
    }
   }
  },
  {
   "cell_type": "markdown",
   "source": [
    "Zufällige Tensoren werden mit `torch.randn(n,k)` erstellt."
   ],
   "metadata": {
    "collapsed": false,
    "pycharm": {
     "name": "#%% md\n"
    }
   }
  },
  {
   "cell_type": "code",
   "execution_count": 170,
   "outputs": [
    {
     "name": "stdout",
     "output_type": "stream",
     "text": [
      "tensor([[-1.6741, -1.2723, -0.3262],\n",
      "        [ 0.0666,  1.2366,  1.6777]])\n"
     ]
    }
   ],
   "source": [
    "print(torch.randn(2,3))"
   ],
   "metadata": {
    "collapsed": false,
    "pycharm": {
     "name": "#%%\n"
    }
   }
  },
  {
   "cell_type": "markdown",
   "source": [
    "$x = \\begin{pmatrix} 1 \\\\ -1 \\\\ 0 \\end{pmatrix}$\n",
    "\n",
    "$e^x$ bekommen wir durch `torch.exp(x)`.\n",
    "\n",
    "$||x||_2$ bekommen wir durch `torch.norm(x)`.\n",
    "\n",
    "$ \\sum_{i=1}^n x_i $ bekommen wir durch `torch.sum(x)`.\n",
    "\n",
    "$ \\prod_{i=1}^n x_i $ bekommen wir durch `torch.prod(x)`."
   ],
   "metadata": {
    "collapsed": false,
    "pycharm": {
     "name": "#%% md\n"
    }
   }
  },
  {
   "cell_type": "code",
   "execution_count": 171,
   "outputs": [
    {
     "name": "stdout",
     "output_type": "stream",
     "text": [
      "torch.exp(x) = \n",
      "tensor([2.7183, 0.3679, 1.0000]) \n",
      "\n",
      "torch.norm(x) = \n",
      "1.4142135381698608 \n",
      "\n",
      "torch.sum(x) = \n",
      "0.0 \n",
      "\n",
      "torch.prod(x) = \n",
      "-0.0\n"
     ]
    }
   ],
   "source": [
    "print(\"torch.exp(x) = \")\n",
    "print(torch.exp(x), \"\\n\")\n",
    "\n",
    "print(\"torch.norm(x) = \")\n",
    "print(torch.norm(x).item(), \"\\n\")\n",
    "\n",
    "print(\"torch.sum(x) = \")\n",
    "print(torch.sum(x).item(), \"\\n\")\n",
    "\n",
    "print(\"torch.prod(x) = \")\n",
    "print(torch.prod(x).item())"
   ],
   "metadata": {
    "collapsed": false,
    "pycharm": {
     "name": "#%%\n"
    }
   }
  }
 ],
 "metadata": {
  "kernelspec": {
   "display_name": "Python 3",
   "language": "python",
   "name": "python3"
  },
  "language_info": {
   "codemirror_mode": {
    "name": "ipython",
    "version": 2
   },
   "file_extension": ".py",
   "mimetype": "text/x-python",
   "name": "python",
   "nbconvert_exporter": "python",
   "pygments_lexer": "ipython2",
   "version": "2.7.6"
  }
 },
 "nbformat": 4,
 "nbformat_minor": 0
}